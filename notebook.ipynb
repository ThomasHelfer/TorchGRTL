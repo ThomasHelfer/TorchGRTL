{
 "cells": [
  {
   "cell_type": "code",
   "execution_count": 3,
   "id": "9e6eda08-ff32-4ee3-9c35-f34b6d3a9a41",
   "metadata": {},
   "outputs": [
    {
     "name": "stdout",
     "output_type": "stream",
     "text": [
      "Defaulting to user installation because normal site-packages is not writeable\n",
      "Looking in indexes: https://pypi.org/simple, https://pypi.ngc.nvidia.com\n",
      "Processing /jet/home/thelfer/TorchGRTL\n",
      "  Preparing metadata (setup.py) ... \u001b[?25ldone\n",
      "\u001b[?25hRequirement already satisfied: torch in /usr/local/lib/python3.10/dist-packages (from GeneralRelativity==0.1) (2.1.0a0+32f93b1)\n",
      "Requirement already satisfied: black in /jet/home/thelfer/.local/lib/python3.10/site-packages (from GeneralRelativity==0.1) (23.12.1)\n",
      "Requirement already satisfied: pre-commit in /jet/home/thelfer/.local/lib/python3.10/site-packages (from GeneralRelativity==0.1) (3.6.0)\n",
      "Requirement already satisfied: pytest in /usr/local/lib/python3.10/dist-packages (from GeneralRelativity==0.1) (7.4.2)\n",
      "Requirement already satisfied: numpy in /usr/local/lib/python3.10/dist-packages (from GeneralRelativity==0.1) (1.22.2)\n",
      "Requirement already satisfied: tqdm in /usr/local/lib/python3.10/dist-packages (from GeneralRelativity==0.1) (4.66.1)\n",
      "Requirement already satisfied: matplotlib in /usr/local/lib/python3.10/dist-packages (from GeneralRelativity==0.1) (3.7.3)\n",
      "Requirement already satisfied: click>=8.0.0 in /usr/local/lib/python3.10/dist-packages (from black->GeneralRelativity==0.1) (8.1.6)\n",
      "Requirement already satisfied: mypy-extensions>=0.4.3 in /jet/home/thelfer/.local/lib/python3.10/site-packages (from black->GeneralRelativity==0.1) (1.0.0)\n",
      "Requirement already satisfied: packaging>=22.0 in /usr/local/lib/python3.10/dist-packages (from black->GeneralRelativity==0.1) (23.1)\n",
      "Requirement already satisfied: pathspec>=0.9.0 in /jet/home/thelfer/.local/lib/python3.10/site-packages (from black->GeneralRelativity==0.1) (0.12.1)\n",
      "Requirement already satisfied: platformdirs>=2 in /usr/local/lib/python3.10/dist-packages (from black->GeneralRelativity==0.1) (3.10.0)\n",
      "Requirement already satisfied: tomli>=1.1.0 in /usr/local/lib/python3.10/dist-packages (from black->GeneralRelativity==0.1) (2.0.1)\n",
      "Requirement already satisfied: typing-extensions>=4.0.1 in /usr/local/lib/python3.10/dist-packages (from black->GeneralRelativity==0.1) (4.7.1)\n",
      "Requirement already satisfied: contourpy>=1.0.1 in /usr/local/lib/python3.10/dist-packages (from matplotlib->GeneralRelativity==0.1) (1.1.0)\n",
      "Requirement already satisfied: cycler>=0.10 in /usr/local/lib/python3.10/dist-packages (from matplotlib->GeneralRelativity==0.1) (0.11.0)\n",
      "Requirement already satisfied: fonttools>=4.22.0 in /usr/local/lib/python3.10/dist-packages (from matplotlib->GeneralRelativity==0.1) (4.42.1)\n",
      "Requirement already satisfied: kiwisolver>=1.0.1 in /usr/local/lib/python3.10/dist-packages (from matplotlib->GeneralRelativity==0.1) (1.4.5)\n",
      "Requirement already satisfied: pillow>=6.2.0 in /usr/local/lib/python3.10/dist-packages (from matplotlib->GeneralRelativity==0.1) (9.2.0)\n",
      "Requirement already satisfied: pyparsing>=2.3.1 in /usr/local/lib/python3.10/dist-packages (from matplotlib->GeneralRelativity==0.1) (3.1.1)\n",
      "Requirement already satisfied: python-dateutil>=2.7 in /usr/local/lib/python3.10/dist-packages (from matplotlib->GeneralRelativity==0.1) (2.8.2)\n",
      "Requirement already satisfied: cfgv>=2.0.0 in /jet/home/thelfer/.local/lib/python3.10/site-packages (from pre-commit->GeneralRelativity==0.1) (3.4.0)\n",
      "Requirement already satisfied: identify>=1.0.0 in /jet/home/thelfer/.local/lib/python3.10/site-packages (from pre-commit->GeneralRelativity==0.1) (2.5.33)\n",
      "Requirement already satisfied: nodeenv>=0.11.1 in /jet/home/thelfer/.local/lib/python3.10/site-packages (from pre-commit->GeneralRelativity==0.1) (1.8.0)\n",
      "Requirement already satisfied: pyyaml>=5.1 in /usr/local/lib/python3.10/dist-packages (from pre-commit->GeneralRelativity==0.1) (6.0.1)\n",
      "Requirement already satisfied: virtualenv>=20.10.0 in /jet/home/thelfer/.local/lib/python3.10/site-packages (from pre-commit->GeneralRelativity==0.1) (20.25.0)\n",
      "Requirement already satisfied: iniconfig in /usr/local/lib/python3.10/dist-packages (from pytest->GeneralRelativity==0.1) (2.0.0)\n",
      "Requirement already satisfied: pluggy<2.0,>=0.12 in /usr/local/lib/python3.10/dist-packages (from pytest->GeneralRelativity==0.1) (1.3.0)\n",
      "Requirement already satisfied: exceptiongroup>=1.0.0rc8 in /usr/local/lib/python3.10/dist-packages (from pytest->GeneralRelativity==0.1) (1.1.3)\n",
      "Requirement already satisfied: filelock in /usr/local/lib/python3.10/dist-packages (from torch->GeneralRelativity==0.1) (3.12.4)\n",
      "Requirement already satisfied: sympy in /usr/local/lib/python3.10/dist-packages (from torch->GeneralRelativity==0.1) (1.12)\n",
      "Requirement already satisfied: networkx in /usr/local/lib/python3.10/dist-packages (from torch->GeneralRelativity==0.1) (2.6.3)\n",
      "Requirement already satisfied: jinja2 in /usr/local/lib/python3.10/dist-packages (from torch->GeneralRelativity==0.1) (3.1.2)\n",
      "Requirement already satisfied: fsspec in /usr/local/lib/python3.10/dist-packages (from torch->GeneralRelativity==0.1) (2023.6.0)\n",
      "Requirement already satisfied: setuptools in /usr/local/lib/python3.10/dist-packages (from nodeenv>=0.11.1->pre-commit->GeneralRelativity==0.1) (68.2.2)\n",
      "Requirement already satisfied: six>=1.5 in /usr/local/lib/python3.10/dist-packages (from python-dateutil>=2.7->matplotlib->GeneralRelativity==0.1) (1.16.0)\n",
      "Requirement already satisfied: distlib<1,>=0.3.7 in /jet/home/thelfer/.local/lib/python3.10/site-packages (from virtualenv>=20.10.0->pre-commit->GeneralRelativity==0.1) (0.3.8)\n",
      "Requirement already satisfied: MarkupSafe>=2.0 in /usr/local/lib/python3.10/dist-packages (from jinja2->torch->GeneralRelativity==0.1) (2.1.3)\n",
      "Requirement already satisfied: mpmath>=0.19 in /usr/local/lib/python3.10/dist-packages (from sympy->torch->GeneralRelativity==0.1) (1.3.0)\n",
      "Building wheels for collected packages: GeneralRelativity\n",
      "  Building wheel for GeneralRelativity (setup.py) ... \u001b[?25ldone\n",
      "\u001b[?25h  Created wheel for GeneralRelativity: filename=GeneralRelativity-0.1-py3-none-any.whl size=3289 sha256=e7ad43756cf1ccab58018b7c655e1c5d0b9f8d149e03fcece792e8ba1bba39a4\n",
      "  Stored in directory: /tmp/pip-ephem-wheel-cache-0_jpzufc/wheels/04/ec/8b/6f637a101ab24e0d90dd2562678519ec9bc290a2b910236796\n",
      "Successfully built GeneralRelativity\n",
      "Installing collected packages: GeneralRelativity\n",
      "  Attempting uninstall: GeneralRelativity\n",
      "    Found existing installation: GeneralRelativity 0.1\n",
      "    Uninstalling GeneralRelativity-0.1:\n",
      "      Successfully uninstalled GeneralRelativity-0.1\n",
      "Successfully installed GeneralRelativity-0.1\n",
      "\n",
      "\u001b[1m[\u001b[0m\u001b[34;49mnotice\u001b[0m\u001b[1;39;49m]\u001b[0m\u001b[39;49m A new release of pip is available: \u001b[0m\u001b[31;49m23.2.1\u001b[0m\u001b[39;49m -> \u001b[0m\u001b[32;49m23.3.2\u001b[0m\n",
      "\u001b[1m[\u001b[0m\u001b[34;49mnotice\u001b[0m\u001b[1;39;49m]\u001b[0m\u001b[39;49m To update, run: \u001b[0m\u001b[32;49mpython -m pip install --upgrade pip\u001b[0m\n",
      "Defaulting to user installation because normal site-packages is not writeable\n",
      "Looking in indexes: https://pypi.org/simple, https://pypi.ngc.nvidia.com\n",
      "Requirement already satisfied: pandas in /usr/local/lib/python3.10/dist-packages (1.5.3)\n",
      "Requirement already satisfied: scikit-learn in /usr/local/lib/python3.10/dist-packages (1.2.0)\n",
      "Requirement already satisfied: tensorboard in /usr/local/lib/python3.10/dist-packages (2.9.0)\n",
      "Requirement already satisfied: torch in /usr/local/lib/python3.10/dist-packages (2.1.0a0+32f93b1)\n",
      "Requirement already satisfied: tqdm in /usr/local/lib/python3.10/dist-packages (4.66.1)\n",
      "Requirement already satisfied: python-dateutil>=2.8.1 in /usr/local/lib/python3.10/dist-packages (from pandas) (2.8.2)\n",
      "Requirement already satisfied: pytz>=2020.1 in /usr/local/lib/python3.10/dist-packages (from pandas) (2023.3)\n",
      "Requirement already satisfied: numpy>=1.21.0 in /usr/local/lib/python3.10/dist-packages (from pandas) (1.22.2)\n",
      "Requirement already satisfied: scipy>=1.3.2 in /usr/local/lib/python3.10/dist-packages (from scikit-learn) (1.11.1)\n",
      "Requirement already satisfied: joblib>=1.1.1 in /usr/local/lib/python3.10/dist-packages (from scikit-learn) (1.3.2)\n",
      "Requirement already satisfied: threadpoolctl>=2.0.0 in /usr/local/lib/python3.10/dist-packages (from scikit-learn) (3.2.0)\n",
      "Requirement already satisfied: absl-py>=0.4 in /usr/local/lib/python3.10/dist-packages (from tensorboard) (1.4.0)\n",
      "Requirement already satisfied: grpcio>=1.24.3 in /usr/local/lib/python3.10/dist-packages (from tensorboard) (1.58.0)\n",
      "Requirement already satisfied: google-auth<3,>=1.6.3 in /usr/local/lib/python3.10/dist-packages (from tensorboard) (2.23.0)\n",
      "Requirement already satisfied: google-auth-oauthlib<0.5,>=0.4.1 in /usr/local/lib/python3.10/dist-packages (from tensorboard) (0.4.6)\n",
      "Requirement already satisfied: markdown>=2.6.8 in /usr/local/lib/python3.10/dist-packages (from tensorboard) (3.4.4)\n",
      "Requirement already satisfied: protobuf>=3.9.2 in /usr/local/lib/python3.10/dist-packages (from tensorboard) (4.24.3)\n",
      "Requirement already satisfied: requests<3,>=2.21.0 in /usr/local/lib/python3.10/dist-packages (from tensorboard) (2.31.0)\n",
      "Requirement already satisfied: setuptools>=41.0.0 in /usr/local/lib/python3.10/dist-packages (from tensorboard) (68.2.2)\n",
      "Requirement already satisfied: tensorboard-data-server<0.7.0,>=0.6.0 in /usr/local/lib/python3.10/dist-packages (from tensorboard) (0.6.1)\n",
      "Requirement already satisfied: tensorboard-plugin-wit>=1.6.0 in /usr/local/lib/python3.10/dist-packages (from tensorboard) (1.8.1)\n",
      "Requirement already satisfied: werkzeug>=1.0.1 in /usr/local/lib/python3.10/dist-packages (from tensorboard) (2.3.7)\n",
      "Requirement already satisfied: wheel>=0.26 in /usr/local/lib/python3.10/dist-packages (from tensorboard) (0.41.2)\n",
      "Requirement already satisfied: filelock in /usr/local/lib/python3.10/dist-packages (from torch) (3.12.4)\n",
      "Requirement already satisfied: typing-extensions in /usr/local/lib/python3.10/dist-packages (from torch) (4.7.1)\n",
      "Requirement already satisfied: sympy in /usr/local/lib/python3.10/dist-packages (from torch) (1.12)\n",
      "Requirement already satisfied: networkx in /usr/local/lib/python3.10/dist-packages (from torch) (2.6.3)\n",
      "Requirement already satisfied: jinja2 in /usr/local/lib/python3.10/dist-packages (from torch) (3.1.2)\n",
      "Requirement already satisfied: fsspec in /usr/local/lib/python3.10/dist-packages (from torch) (2023.6.0)\n",
      "Requirement already satisfied: cachetools<6.0,>=2.0.0 in /usr/local/lib/python3.10/dist-packages (from google-auth<3,>=1.6.3->tensorboard) (5.3.1)\n",
      "Requirement already satisfied: pyasn1-modules>=0.2.1 in /usr/local/lib/python3.10/dist-packages (from google-auth<3,>=1.6.3->tensorboard) (0.3.0)\n",
      "Requirement already satisfied: rsa<5,>=3.1.4 in /usr/local/lib/python3.10/dist-packages (from google-auth<3,>=1.6.3->tensorboard) (4.9)\n",
      "Requirement already satisfied: urllib3<2.0 in /usr/local/lib/python3.10/dist-packages (from google-auth<3,>=1.6.3->tensorboard) (1.26.16)\n",
      "Requirement already satisfied: requests-oauthlib>=0.7.0 in /usr/local/lib/python3.10/dist-packages (from google-auth-oauthlib<0.5,>=0.4.1->tensorboard) (1.3.1)\n",
      "Requirement already satisfied: six>=1.5 in /usr/local/lib/python3.10/dist-packages (from python-dateutil>=2.8.1->pandas) (1.16.0)\n",
      "Requirement already satisfied: charset-normalizer<4,>=2 in /usr/local/lib/python3.10/dist-packages (from requests<3,>=2.21.0->tensorboard) (3.2.0)\n",
      "Requirement already satisfied: idna<4,>=2.5 in /usr/local/lib/python3.10/dist-packages (from requests<3,>=2.21.0->tensorboard) (3.4)\n",
      "Requirement already satisfied: certifi>=2017.4.17 in /usr/local/lib/python3.10/dist-packages (from requests<3,>=2.21.0->tensorboard) (2023.7.22)\n",
      "Requirement already satisfied: MarkupSafe>=2.1.1 in /usr/local/lib/python3.10/dist-packages (from werkzeug>=1.0.1->tensorboard) (2.1.3)\n",
      "Requirement already satisfied: mpmath>=0.19 in /usr/local/lib/python3.10/dist-packages (from sympy->torch) (1.3.0)\n",
      "Requirement already satisfied: pyasn1<0.6.0,>=0.4.6 in /usr/local/lib/python3.10/dist-packages (from pyasn1-modules>=0.2.1->google-auth<3,>=1.6.3->tensorboard) (0.5.0)\n",
      "Requirement already satisfied: oauthlib>=3.0.0 in /usr/local/lib/python3.10/dist-packages (from requests-oauthlib>=0.7.0->google-auth-oauthlib<0.5,>=0.4.1->tensorboard) (3.2.2)\n",
      "\n",
      "\u001b[1m[\u001b[0m\u001b[34;49mnotice\u001b[0m\u001b[1;39;49m]\u001b[0m\u001b[39;49m A new release of pip is available: \u001b[0m\u001b[31;49m23.2.1\u001b[0m\u001b[39;49m -> \u001b[0m\u001b[32;49m23.3.2\u001b[0m\n",
      "\u001b[1m[\u001b[0m\u001b[34;49mnotice\u001b[0m\u001b[1;39;49m]\u001b[0m\u001b[39;49m To update, run: \u001b[0m\u001b[32;49mpython -m pip install --upgrade pip\u001b[0m\n"
     ]
    }
   ],
   "source": [
    "!pip install .\n",
    "!pip install pandas scikit-learn tensorboard torch tqdm"
   ]
  },
  {
   "cell_type": "code",
   "execution_count": 4,
   "id": "113757c9-d051-41d3-9eab-5c65bc8c1098",
   "metadata": {},
   "outputs": [],
   "source": [
    "import torch\n",
    "import pandas as pd\n",
    "import numpy as np\n",
    "import time\n",
    "import os\n",
    "import matplotlib.pylab as plt\n",
    "from sklearn.preprocessing import StandardScaler\n",
    "from sklearn.model_selection import train_test_split\n",
    "from torch.autograd import Variable\n",
    "import pandas as pd\n",
    "from sklearn.metrics import r2_score\n",
    "from torch.utils.tensorboard import SummaryWriter\n",
    "from tqdm.auto import tqdm, trange\n",
    "\n",
    "%reload_ext tensorboard\n",
    "from GeneralRelativity.Utils import (\n",
    "    get_box_format,\n",
    "    TensorDict,\n",
    "    cut_ghosts,\n",
    "    keys,\n",
    "    keys_all,\n",
    ")\n",
    "from GeneralRelativity.DimensionDefinitions import FOR1, FOR2, FOR3, FOR4\n",
    "from GeneralRelativity.FourthOrderDerivatives import diff1, diff2\n",
    "from GeneralRelativity.TensorAlgebra import (\n",
    "    compute_christoffel,\n",
    "    compute_trace,\n",
    "    compute_christoffel_fast,\n",
    "    raise_all,\n",
    ")\n",
    "from GeneralRelativity.CCZ4Geometry import compute_ricci\n",
    "from GeneralRelativity.Constraints import constraint_equations\n",
    "\n",
    "from torch.utils.data import TensorDataset, DataLoader\n",
    "\n",
    "time_stamp = int(time.time())"
   ]
  },
  {
   "cell_type": "code",
   "execution_count": 5,
   "id": "0581229a-6848-4bde-b6db-8bc5fdff61e5",
   "metadata": {},
   "outputs": [
    {
     "name": "stdout",
     "output_type": "stream",
     "text": [
      "Executing the model on : cuda:0\n"
     ]
    }
   ],
   "source": [
    "device = torch.device(\"cuda:0\" if torch.cuda.is_available() else \"cpu\")\n",
    "print(\"Executing the model on :\", device)\n",
    "\n",
    "torch.manual_seed(1)\n",
    "np.random.seed(4)\n",
    "writer = SummaryWriter()"
   ]
  },
  {
   "cell_type": "code",
   "execution_count": 6,
   "id": "4c57d113-0439-4c27-bcbc-c33f963c0c94",
   "metadata": {},
   "outputs": [
    {
     "name": "stdout",
     "output_type": "stream",
     "text": [
      "Loading data\n"
     ]
    },
    {
     "name": "stderr",
     "output_type": "stream",
     "text": [
      "100%|██████████| 3/3 [00:00<00:00, 27.07it/s]\n"
     ]
    }
   ],
   "source": [
    "# Loading small testdata\n",
    "filenamesX = \"tests/TestData/Xdata_level0_step*\"\n",
    "num_varsX = 104\n",
    "dataX = get_box_format(filenamesX, num_varsX)\n",
    "# Cutting out extra values added for validation\n",
    "dataX = dataX[:, :, :, :, :25]"
   ]
  },
  {
   "cell_type": "code",
   "execution_count": 239,
   "id": "771b86ac-4f14-477b-b969-b8499b75e560",
   "metadata": {},
   "outputs": [],
   "source": [
    "# A small default model\n",
    "class SuperResolution3DNet(torch.nn.Module):\n",
    "    def __init__(self):\n",
    "        super(SuperResolution3DNet, self).__init__()\n",
    "\n",
    "        # Encoder\n",
    "        self.encoder = torch.nn.Sequential(\n",
    "            torch.nn.Conv3d(25, 64, kernel_size=3, padding=1),\n",
    "            torch.nn.ReLU(inplace=True),\n",
    "            torch.nn.Conv3d(64, 128, kernel_size=3, padding=1),\n",
    "            torch.nn.ReLU(inplace=True),\n",
    "        )\n",
    "\n",
    "        # Decoder\n",
    "        self.decoder = torch.nn.Sequential(\n",
    "            torch.nn.ConvTranspose3d(128, 64, kernel_size=4, stride=2, padding=1),\n",
    "            torch.nn.ReLU(inplace=True),\n",
    "            torch.nn.Conv3d(64, 25, kernel_size=3, padding=1),\n",
    "        )\n",
    "\n",
    "    def forward(self, x):\n",
    "        tmp = x\n",
    "        x = self.encoder(x)\n",
    "        x = self.decoder(x)\n",
    "        # Reusing the input data for faster learning\n",
    "        #x[:, :, ::2, ::2, ::2] = tmp[:, :, ...]\n",
    "        return x\n",
    "\n",
    "\n",
    "# Instantiate the model\n",
    "net = SuperResolution3DNet().to(torch.double)"
   ]
  },
  {
   "cell_type": "code",
   "execution_count": 240,
   "id": "456b85c7-a008-43bd-9dd5-153b043d7ee6",
   "metadata": {},
   "outputs": [],
   "source": [
    "# global step counter\n",
    "counter = 0\n",
    "\n",
    "losses_train = []\n",
    "losses_val = []"
   ]
  },
  {
   "cell_type": "code",
   "execution_count": 241,
   "id": "823b3067-1b41-4cb4-894b-32b3f14884e1",
   "metadata": {},
   "outputs": [
    {
     "name": "stdout",
     "output_type": "stream",
     "text": [
      "Input Shape: torch.Size([1, 25, 32, 32, 32])\n",
      "Output Shape: torch.Size([1, 25, 64, 64, 64])\n"
     ]
    }
   ],
   "source": [
    "# Create a random 3D low-resolution input tensor (batch size, channels, depth, height, width)\n",
    "input_tensor = torch.randn(1, 25, 32, 32, 32)  # Adjust dimensions as needed\n",
    "\n",
    "# Instantiate the model\n",
    "model = SuperResolution3DNet()\n",
    "\n",
    "# Forward pass to obtain the high-resolution output\n",
    "output_tensor = model(input_tensor)\n",
    "\n",
    "# Check the shape of the output\n",
    "print(\"Input Shape:\", input_tensor.shape)\n",
    "print(\"Output Shape:\", output_tensor.shape)"
   ]
  },
  {
   "cell_type": "code",
   "execution_count": 242,
   "id": "748ebfa6-d35a-4e65-8ca0-b7ee0e212d2b",
   "metadata": {},
   "outputs": [],
   "source": [
    "optimizerBFGS = torch.optim.LBFGS(\n",
    "    net.parameters(), lr=0.1\n",
    ")  # Use LBFGS sometimes, it really does do magic sometimes, though its a bit of a diva\n",
    "optimizerADAM = torch.optim.Adam(net.parameters(), lr=0.0001)"
   ]
  },
  {
   "cell_type": "code",
   "execution_count": 243,
   "id": "6999db8f-b73b-4a36-b0a0-b70caaed8b0d",
   "metadata": {},
   "outputs": [],
   "source": [
    "# Define the ratio for the split (e.g., 80% train, 20% test)\n",
    "train_ratio = 0.8\n",
    "test_ratio = 1 - train_ratio\n",
    "\n",
    "# Calculate the number of samples for each split\n",
    "num_samples = len(dataX)\n",
    "num_train = int(train_ratio * num_samples)\n",
    "num_test = num_samples - num_train\n",
    "\n",
    "train_torch = dataX[:num_train].permute(0, 4, 1, 2, 3).to(device)\n",
    "test_torch = dataX[num_train:].permute(0, 4, 1, 2, 3).to(device)\n",
    "\n",
    "# Create DataLoader for batching -- in case data gets larger\n",
    "# train_loader = DataLoader(dataset=TensorDataset(X_train_torch, y_train_torch), batch_size=batch_size, shuffle=False, pin_memory=True, num_workers=0)\n",
    "# test_loader = DataLoader(dataset=TensorDataset(X_test_torch, y_test_torch), batch_size=batch_size, shuffle=False, num_workers=0)  # Batch size for test can be larger if you have the memory"
   ]
  },
  {
   "cell_type": "code",
   "execution_count": 244,
   "id": "1a7058ed-a1f3-4af5-ba97-f816558320c7",
   "metadata": {},
   "outputs": [],
   "source": [
    "# Magical loss coming from General Relativity\n",
    "class Hamiltonian_loss:\n",
    "    def __init__(self, oneoverdx: float):\n",
    "        self.oneoverdx = oneoverdx\n",
    "\n",
    "    def __call__(self, output: torch.tensor, dummy: torch.tensor) -> torch.tensor:\n",
    "        # For learning we need shape (batch,channel,x,y,z), however TorchGRTL works with (batch,x,y,z,channel), thus the permute\n",
    "        output = output.permute(0, 2, 3, 4, 1)\n",
    "        # cutting ghosts off, otherwise you will run into problems later\n",
    "        dataXcut = cut_ghosts(output)\n",
    "\n",
    "        # creating dict with values\n",
    "        vars = TensorDict(dataXcut, keys)\n",
    "        # creating dict with derivatives\n",
    "        d1 = TensorDict(diff1(output, oneoverdx), keys)\n",
    "        d2 = TensorDict(diff2(output, oneoverdx**2), keys)\n",
    "        # calculating variables required for constraints\n",
    "        h_UU = torch.inverse(vars[\"h\"])\n",
    "        chris = compute_christoffel(d1[\"h\"], h_UU)\n",
    "        # Computing Constraints\n",
    "        out = constraint_equations(vars, d1, d2, h_UU, chris)\n",
    "        loss = torch.mean(out[\"Ham\"] * out[\"Ham\"])\n",
    "        return loss\n",
    "\n",
    "\n",
    "oneoverdx = 64.0 / 4.0\n",
    "my_loss = Hamiltonian_loss(oneoverdx)"
   ]
  },
  {
   "cell_type": "code",
   "execution_count": 245,
   "id": "2ceaf420-791f-40cf-8a0c-f4537bcf85c3",
   "metadata": {},
   "outputs": [],
   "source": [
    "# load model in case you restart form checkpoint\n",
    "restart = False\n",
    "file_path = \"model.pth\"\n",
    "if restart and os.path.exists(file_path):\n",
    "    net.load_state_dict(torch.load(file_path))"
   ]
  },
  {
   "cell_type": "code",
   "execution_count": null,
   "id": "f8f10c9c-b601-4ba0-b51e-c8377cc54e9c",
   "metadata": {},
   "outputs": [
    {
     "name": "stderr",
     "output_type": "stream",
     "text": [
      " 12%|█▏        | 1247/10000 [04:42<2:09:36,  1.13it/s]"
     ]
    }
   ],
   "source": [
    "# Note: it will slow down signficantly with BFGS steps, they are 10x slower, just be aware!\n",
    "ADAMsteps = 1000  # Will perform # steps of ADAM steps and then switch over to BFGS-L\n",
    "n_steps = 10000  # Total amount of steps\n",
    "\n",
    "net.train()\n",
    "net.to(device)\n",
    "\n",
    "my_loss = torch.nn.L1Loss()\n",
    "\n",
    "pbar = trange(n_steps)\n",
    "for i in pbar:\n",
    "    batchcounter = 0\n",
    "    # for X_batch, y_batch in train_loader:\n",
    "    y_batch = train_torch.to(device)\n",
    "    X_batch = y_batch[:, :, ::2, ::2, ::2].clone()\n",
    "    y_batch = y_batch[:, :25]\n",
    "\n",
    "    batchcounter += 1\n",
    "\n",
    "    # This is needed for LBFGS\n",
    "    def closure():\n",
    "        if torch.is_grad_enabled():\n",
    "            optimizerBFGS.zero_grad()\n",
    "        y_pred = net(X_batch)\n",
    "\n",
    "        loss_train = my_loss(y_pred, y_batch)\n",
    "        if loss_train.requires_grad:\n",
    "            loss_train.backward()\n",
    "        return loss_train\n",
    "\n",
    "    # doing some ADAM first to warm up, sometimes BFGS fuckes up if you start too early\n",
    "    if counter < ADAMsteps:\n",
    "        y_pred = net(X_batch)\n",
    "\n",
    "        loss_train = my_loss(y_pred, y_batch)\n",
    "        optimizerADAM.zero_grad()\n",
    "        loss_train.backward()\n",
    "        optimizerADAM.step()\n",
    "        # print(f'ADAM {batchcounter}')\n",
    "\n",
    "    else:\n",
    "        optimizerBFGS.step(closure)\n",
    "        # print(f'BFGS {batchcounter}')\n",
    "\n",
    "    output = net(X_batch)\n",
    "    loss_train = closure()\n",
    "    writer.add_scalar(\"loss/train\", loss_train.item(), i)\n",
    "    losses_train.append(loss_train.item())\n",
    "    if np.isnan(loss_train.item()):\n",
    "        print(\"we got nans\")\n",
    "    # print(loss_train.item())\n",
    "    # Advancing global counter\n",
    "    counter += 1\n",
    "    # Validation\n",
    "\n",
    "    if counter % 1 == 0:\n",
    "        with torch.no_grad():\n",
    "            # for X_val_batch, y_val_batch in test_loader:\n",
    "            # Transfer batch to GPU\n",
    "            y_val_batch = test_torch.to(device)\n",
    "            X_val_batch = y_val_batch[:, :, ::2, ::2, ::2].clone()\n",
    "            y_val_batch = y_val_batch[:, :25]\n",
    "            y_val_pred = net(X_val_batch)\n",
    "            loss_val = my_loss(y_val_pred, y_val_batch)\n",
    "            losses_val.append(loss_val.item())\n",
    "            writer.add_scalar(\"loss/test\", loss_val.item(), i)\n",
    "    if counter % 1000 == 0:\n",
    "        # Writing out network and scaler\n",
    "        torch.save(\n",
    "            net.state_dict(),\n",
    "            f\"model_epoch_counter_{counter:010d}_data_time_{time_stamp}.pth\",\n",
    "        )\n",
    "\n",
    "\n",
    "# Plotting shit at the end\n",
    "plt.figure(figsize=(9, 6))\n",
    "plt.plot(np.array(losses_train), label=\"Train\")\n",
    "# plt.plot(np.array(losses_val), label=\"Val with Relative loss\", linewidth=0.5)\n",
    "plt.yscale(\"log\")\n",
    "plt.legend()\n",
    "plt.show()\n",
    "plt.close()\n",
    "\n",
    "writer.flush()\n",
    "writer.close()"
   ]
  },
  {
   "cell_type": "code",
   "execution_count": null,
   "id": "fdd46a1e-829c-4345-8e9b-0205aeab66a9",
   "metadata": {
    "editable": true,
    "scrolled": true,
    "slideshow": {
     "slide_type": ""
    },
    "tags": []
   },
   "outputs": [],
   "source": [
    "plt.figure(figsize=(6, 5), dpi=300)\n",
    "\n",
    "plt.plot(np.array(losses_train), label=\"trainloss\", linewidth=0.5)\n",
    "plt.yscale(\"log\")\n",
    "plt.legend()\n",
    "plt.show()\n",
    "plt.close()\n",
    "\n",
    "writer.flush()\n",
    "writer.close()"
   ]
  },
  {
   "cell_type": "code",
   "execution_count": 236,
   "id": "d1111cd8-4e85-4e05-bc75-96eb4281ac91",
   "metadata": {},
   "outputs": [
    {
     "data": {
      "text/plain": [
       "tensor([2.5000, 2.5000, 2.5000])"
      ]
     },
     "execution_count": 236,
     "metadata": {},
     "output_type": "execute_result"
    }
   ],
   "source": [
    "# Get comparison with classical methods\n",
    "from GeneralRelativity.Interpolation import *\n",
    "\n",
    "# Interpolation compared to what is used typically in codes ( we interpolate between 6 values with polynomials x^i y^k z^k containing powers up to 3)\n",
    "points = 6\n",
    "power = 3\n",
    "shape = X_batch.shape\n",
    "interpolation = interp(points, power,True)\n",
    "ghosts = int(math.ceil(points / 2))\n",
    "shape_higher_order = (shape[-1] - 2 * ghosts) * 2 + 2\n",
    "\n",
    "y_interpolated, pos = interpolation(X_batch)\n",
    "y_interpolated_buffer = torch.zeros_like(y_batch)\n",
    "diff = (y_batch.shape[-1] - y_interpolated.shape[-1]) // 2 \n",
    "y_interpolated_buffer[:, :, diff:-diff, diff:-diff, diff:-diff] = y_interpolated\n",
    "pos[1,1,1]"
   ]
  },
  {
   "cell_type": "code",
   "execution_count": 237,
   "id": "309d8ad4-fd6d-4376-ace4-3fcb0d65e6be",
   "metadata": {},
   "outputs": [
    {
     "data": {
      "image/png": "[encoded data removed]",
      "text/plain": [
       "<Figure size 1500x500 with 6 Axes>"
      ]
     },
     "metadata": {},
     "output_type": "display_data"
    }
   ],
   "source": [
    "box = 0\n",
    "channel = 0\n",
    "slice = 9\n",
    "# Note we remove some part of the grid as the interpolation needs space\n",
    "max_val = torch.max(y_batch[box, channel, diff-1:-diff+1, diff-1:-diff+1, slice-1]).cpu().numpy()\n",
    "min_val = torch.min(y_batch[box, channel, diff-1:-diff+1, diff-1:-diff+1, slice-1]).cpu().numpy()\n",
    "\n",
    "# Create subplots\n",
    "fig, axes = plt.subplots(1, 3, figsize=(15, 5))\n",
    "\n",
    "# Plot ground truth\n",
    "axes[0].set_title(\"Ground Truth\")\n",
    "im0 = axes[0].imshow(y_batch[box, channel, diff-1:-diff+1,diff-1:-diff+1, slice - 1].cpu().numpy(), vmin=min_val, vmax=max_val, cmap='viridis')\n",
    "axes[0].set_xlabel('X-axis')\n",
    "axes[0].set_ylabel('Y-axis')\n",
    "\n",
    "# Plot Neural Network\n",
    "axes[1].set_title(\"Neural Network\")\n",
    "im1 = axes[1].imshow(y_pred[box, channel, diff-1:-diff+1,diff-1:-diff+1, slice -1 ].detach().cpu().numpy(), vmin=min_val, vmax=max_val, cmap='viridis')\n",
    "axes[1].set_xlabel('X-axis')\n",
    "axes[1].set_ylabel('Y-axis')\n",
    "\n",
    "# Plot Interpolation\n",
    "axes[2].set_title(\"Interpolation\")\n",
    "im2 = axes[2].imshow(y_interpolated[box, channel, :, :, slice - diff], vmin=min_val, vmax=max_val, cmap='viridis')\n",
    "axes[2].set_xlabel('X-axis')\n",
    "axes[2].set_ylabel('Y-axis')\n",
    "\n",
    "# Add colorbars\n",
    "cbar0 = fig.colorbar(im0, ax=axes[0])\n",
    "#cbar0.set_label('Values')\n",
    "cbar1 = fig.colorbar(im1, ax=axes[1])\n",
    "#cbar1.set_label('Values')\n",
    "cbar2 = fig.colorbar(im2, ax=axes[2])\n",
    "#cbar2.set_label('Values')\n",
    "plt.tight_layout()\n",
    "plt.show()"
   ]
  },
  {
   "cell_type": "code",
   "execution_count": 238,
   "id": "ed7a9e68-15b1-4f3d-964b-a770af2116c0",
   "metadata": {},
   "outputs": [
    {
     "data": {
      "text/plain": [
       "[<matplotlib.lines.Line2D at 0x14e5a18f5810>]"
      ]
     },
     "execution_count": 238,
     "metadata": {},
     "output_type": "execute_result"
    },
    {
     "data": {
      "image/png": "[encoded data removed]",
      "text/plain": [
       "<Figure size 640x480 with 1 Axes>"
      ]
     },
     "metadata": {},
     "output_type": "display_data"
    }
   ],
   "source": [
    "box = 5\n",
    "channel = 0\n",
    "slice = 5\n",
    "plt.plot(\n",
    "    y_batch[box, channel, :, slice-1, slice-1].detach().cpu().numpy(),\n",
    "    label=\"ground truth\"\n",
    ")\n",
    "plt.plot(\n",
    "    y_pred[box, channel, :, slice-1, slice-1].detach().cpu().numpy(),\n",
    "    label=\"neural network \"\n",
    ")"
   ]
  },
  {
   "cell_type": "code",
   "execution_count": 229,
   "id": "ddd54cde-bbdc-45ba-8ae4-487b675bdf43",
   "metadata": {},
   "outputs": [
    {
     "data": {
      "image/png": "[encoded data removed]",
      "text/plain": [
       "<Figure size 640x480 with 1 Axes>"
      ]
     },
     "metadata": {},
     "output_type": "display_data"
    }
   ],
   "source": [
    "box = 5\n",
    "channel = 0\n",
    "slice = 5\n",
    "plt.plot(\n",
    "    y_batch[box, channel, diff-1:-diff-1, slice-1, slice-1].detach().cpu().numpy(),\n",
    "    label=\"ground truth\"\n",
    ")\n",
    "plt.plot(\n",
    "    y_pred[box, channel, diff-1:-diff-1, slice-1, slice-1].detach().cpu().numpy(),\n",
    "    label=\"neural network \"\n",
    ")\n",
    "plt.plot(\n",
    "    y_interpolated[box, channel, : , slice-diff, slice-diff]\n",
    "    .detach()\n",
    "    .cpu()\n",
    "    .numpy(),\n",
    "    label=\"interpolation \",\n",
    "    linestyle = ':',\n",
    "    alpha = 0.6\n",
    ")\n",
    "plt.legend()\n",
    "plt.show()"
   ]
  },
  {
   "cell_type": "code",
   "execution_count": 230,
   "id": "e2c3a78a-9a54-4772-82b0-bd8d43bcdeb6",
   "metadata": {},
   "outputs": [
    {
     "name": "stdout",
     "output_type": "stream",
     "text": [
      "Reference data L2 7.250818855990449e-15\n",
      "Neural Network L2 loss 326.97444372480106\n",
      "Interpolation 4.6257036956376396e-07\n"
     ]
    }
   ],
   "source": [
    "# Calculate L2Ham performance\n",
    "my_loss = Hamiltonian_loss(oneoverdx)\n",
    "print(\n",
    "    f\"Reference data L2 {my_loss(y_batch[:, :, diff-1:-diff-1, diff-1:-diff-1, diff-1:-diff-1], torch.tensor([])).detach().cpu().numpy()}\"\n",
    ")\n",
    "print(\n",
    "    f\"Neural Network L2 loss {my_loss(y_pred[:, :, diff-1:-diff-1, diff-1:-diff-1, diff-1:-diff-1], torch.tensor([])).detach().cpu().numpy()}\"\n",
    ")\n",
    "print(f\"Interpolation {my_loss(y_interpolated, torch.tensor([])).detach().numpy()}\")"
   ]
  },
  {
   "cell_type": "code",
   "execution_count": 231,
   "id": "e0feb723-c91e-4288-b72b-c7345ef485ab",
   "metadata": {},
   "outputs": [
    {
     "name": "stdout",
     "output_type": "stream",
     "text": [
      "L1 loss Neural Network 0.0017719399180200234\n",
      "L1 loss interpolation 1.2520488997390084e-07\n"
     ]
    }
   ],
   "source": [
    "# Calculate L1 performance\n",
    "my_loss = torch.nn.L1Loss()\n",
    "print(\n",
    "    f\"L1 loss Neural Network {my_loss(y_pred[:, :, diff-1:-diff-1, diff-1:-diff-1, diff-1:-diff-1].cpu(), y_batch[:, :, diff-1:-diff-1, diff-1:-diff-1, diff-1:-diff-1].cpu())}\"\n",
    ")\n",
    "print(\n",
    "    f\"L1 loss interpolation {my_loss(y_interpolated.cpu(), y_batch[:, :, diff-1:-diff-1, diff-1:-diff-1, diff-1:-diff-1].cpu())}\"\n",
    ")"
   ]
  },
  {
   "cell_type": "code",
   "execution_count": 182,
   "id": "eb655716-a267-42b1-a6b4-e804d25507ee",
   "metadata": {},
   "outputs": [],
   "source": [
    "# Writing out network and scaler\n",
    "torch.save(net.state_dict(), file_path)\n",
    "\n",
    "# Write out model for the C++ code to pick up\n",
    "# traced_script_module = torch.jit.trace(net, X)\n",
    "# traced_script_module.save(\"model.pt\")"
   ]
  },
  {
   "cell_type": "code",
   "execution_count": null,
   "id": "ab70acd9-7aad-4002-bc28-9e4eb54b4946",
   "metadata": {},
   "outputs": [],
   "source": []
  }
 ],
 "metadata": {
  "kernelspec": {
   "display_name": "NGC PyTorch",
   "language": "python",
   "name": "pytorch"
  },
  "language_info": {
   "codemirror_mode": {
    "name": "ipython",
    "version": 3
   },
   "file_extension": ".py",
   "mimetype": "text/x-python",
   "name": "python",
   "nbconvert_exporter": "python",
   "pygments_lexer": "ipython3",
   "version": "3.10.12"
  }
 },
 "nbformat": 4,
 "nbformat_minor": 5
}
