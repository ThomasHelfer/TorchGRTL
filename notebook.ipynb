{
 "cells": [
  {
   "cell_type": "code",
   "execution_count": null,
   "id": "02d2c631-5289-4ca9-9046-96ac19dc636b",
   "metadata": {},
   "outputs": [
    {
     "name": "stdout",
     "output_type": "stream",
     "text": [
      "wandb: Currently logged in as: thomashelfer (multimodal-supernovae). Use `wandb login --relogin` to force relogin\n",
      "wandb: wandb version 0.17.4 is available!  To upgrade, please run:\n",
      "wandb:  $ pip install wandb --upgrade\n",
      "wandb: Tracking run with wandb version 0.16.6\n",
      "wandb: Run data is saved locally in /data/tedwar42/thelfer1/TorchGRTL/wandb/run-20240711_153027-ny4w4meh\n",
      "wandb: Run `wandb offline` to turn off syncing.\n",
      "wandb: Syncing run wise-butterfly-2\n",
      "wandb: ⭐️ View project at https://wandb.ai/multimodal-supernovae/TorchGRTL\n",
      "wandb: 🚀 View run at https://wandb.ai/multimodal-supernovae/TorchGRTL/runs/ny4w4meh\n",
      "Folder 'Run15157599' already exists.\n",
      "Copied script to 'Run15157599'.\n",
      "Executing the model on : cuda:0\n",
      "lambda_fac <class 'float'>\n",
      "Loading data\n",
      "100%|██████████| 7/7 [00:01<00:00,  5.64it/s]\n",
      "mean tensor(0.0002, dtype=torch.float64, grad_fn=<MeanBackward0>)\n",
      "Input Shape: torch.Size([336, 16, 16, 16, 25])\n",
      "Output Shape: torch.Size([1, 25, 22, 22, 22])\n",
      "diff -3\n",
      "dx 0.125\n",
      "training\n"
     ]
    }
   ],
   "source": [
    "!srun python learn_error.py configs/config.yaml"
   ]
  },
  {
   "cell_type": "code",
   "execution_count": 2,
   "id": "9e6eda08-ff32-4ee3-9c35-f34b6d3a9a41",
   "metadata": {
    "scrolled": true
   },
   "outputs": [
    {
     "name": "stdout",
     "output_type": "stream",
     "text": [
      "Processing /Users/tom/Desktop/TorchGRTL\n",
      "  Preparing metadata (setup.py) ... \u001b[?25ldone\n",
      "\u001b[?25hRequirement already satisfied: torch in ./dev/lib/python3.8/site-packages (from GeneralRelativity==0.1) (2.2.2)\n",
      "Requirement already satisfied: black in ./dev/lib/python3.8/site-packages (from GeneralRelativity==0.1) (24.8.0)\n",
      "Requirement already satisfied: pre-commit in ./dev/lib/python3.8/site-packages (from GeneralRelativity==0.1) (3.5.0)\n",
      "Requirement already satisfied: pytest in ./dev/lib/python3.8/site-packages (from GeneralRelativity==0.1) (8.3.2)\n",
      "Requirement already satisfied: numpy in ./dev/lib/python3.8/site-packages (from GeneralRelativity==0.1) (1.24.4)\n",
      "Requirement already satisfied: tqdm in ./dev/lib/python3.8/site-packages (from GeneralRelativity==0.1) (4.66.5)\n",
      "Requirement already satisfied: matplotlib in ./dev/lib/python3.8/site-packages (from GeneralRelativity==0.1) (3.7.5)\n",
      "Requirement already satisfied: pyinterpx in ./dev/lib/python3.8/site-packages (from GeneralRelativity==0.1) (0.2.3)\n",
      "Requirement already satisfied: pyyaml in ./dev/lib/python3.8/site-packages (from GeneralRelativity==0.1) (6.0.1)\n",
      "Requirement already satisfied: wandb in ./dev/lib/python3.8/site-packages (from GeneralRelativity==0.1) (0.17.5)\n",
      "Requirement already satisfied: pandas in ./dev/lib/python3.8/site-packages (from GeneralRelativity==0.1) (2.0.3)\n",
      "Requirement already satisfied: jupyter in ./dev/lib/python3.8/site-packages (from GeneralRelativity==0.1) (1.0.0)\n",
      "Requirement already satisfied: click>=8.0.0 in ./dev/lib/python3.8/site-packages (from black->GeneralRelativity==0.1) (8.1.7)\n",
      "Requirement already satisfied: mypy-extensions>=0.4.3 in ./dev/lib/python3.8/site-packages (from black->GeneralRelativity==0.1) (1.0.0)\n",
      "Requirement already satisfied: packaging>=22.0 in ./dev/lib/python3.8/site-packages (from black->GeneralRelativity==0.1) (24.1)\n",
      "Requirement already satisfied: pathspec>=0.9.0 in ./dev/lib/python3.8/site-packages (from black->GeneralRelativity==0.1) (0.12.1)\n",
      "Requirement already satisfied: platformdirs>=2 in ./dev/lib/python3.8/site-packages (from black->GeneralRelativity==0.1) (4.2.2)\n",
      "Requirement already satisfied: tomli>=1.1.0 in ./dev/lib/python3.8/site-packages (from black->GeneralRelativity==0.1) (2.0.1)\n",
      "Requirement already satisfied: typing-extensions>=4.0.1 in ./dev/lib/python3.8/site-packages (from black->GeneralRelativity==0.1) (4.12.2)\n",
      "Requirement already satisfied: notebook in ./dev/lib/python3.8/site-packages (from jupyter->GeneralRelativity==0.1) (7.2.1)\n",
      "Requirement already satisfied: qtconsole in ./dev/lib/python3.8/site-packages (from jupyter->GeneralRelativity==0.1) (5.5.2)\n",
      "Requirement already satisfied: jupyter-console in ./dev/lib/python3.8/site-packages (from jupyter->GeneralRelativity==0.1) (6.6.3)\n",
      "Requirement already satisfied: nbconvert in ./dev/lib/python3.8/site-packages (from jupyter->GeneralRelativity==0.1) (7.16.4)\n",
      "Requirement already satisfied: ipykernel in ./dev/lib/python3.8/site-packages (from jupyter->GeneralRelativity==0.1) (6.29.5)\n",
      "Requirement already satisfied: ipywidgets in ./dev/lib/python3.8/site-packages (from jupyter->GeneralRelativity==0.1) (8.1.3)\n",
      "Requirement already satisfied: contourpy>=1.0.1 in ./dev/lib/python3.8/site-packages (from matplotlib->GeneralRelativity==0.1) (1.1.1)\n",
      "Requirement already satisfied: cycler>=0.10 in ./dev/lib/python3.8/site-packages (from matplotlib->GeneralRelativity==0.1) (0.12.1)\n",
      "Requirement already satisfied: fonttools>=4.22.0 in ./dev/lib/python3.8/site-packages (from matplotlib->GeneralRelativity==0.1) (4.53.1)\n",
      "Requirement already satisfied: kiwisolver>=1.0.1 in ./dev/lib/python3.8/site-packages (from matplotlib->GeneralRelativity==0.1) (1.4.5)\n",
      "Requirement already satisfied: pillow>=6.2.0 in ./dev/lib/python3.8/site-packages (from matplotlib->GeneralRelativity==0.1) (10.4.0)\n",
      "Requirement already satisfied: pyparsing>=2.3.1 in ./dev/lib/python3.8/site-packages (from matplotlib->GeneralRelativity==0.1) (3.1.2)\n",
      "Requirement already satisfied: python-dateutil>=2.7 in ./dev/lib/python3.8/site-packages (from matplotlib->GeneralRelativity==0.1) (2.9.0.post0)\n",
      "Requirement already satisfied: importlib-resources>=3.2.0 in ./dev/lib/python3.8/site-packages (from matplotlib->GeneralRelativity==0.1) (6.4.0)\n",
      "Requirement already satisfied: pytz>=2020.1 in ./dev/lib/python3.8/site-packages (from pandas->GeneralRelativity==0.1) (2024.1)\n",
      "Requirement already satisfied: tzdata>=2022.1 in ./dev/lib/python3.8/site-packages (from pandas->GeneralRelativity==0.1) (2024.1)\n",
      "Requirement already satisfied: cfgv>=2.0.0 in ./dev/lib/python3.8/site-packages (from pre-commit->GeneralRelativity==0.1) (3.4.0)\n",
      "Requirement already satisfied: identify>=1.0.0 in ./dev/lib/python3.8/site-packages (from pre-commit->GeneralRelativity==0.1) (2.6.0)\n",
      "Requirement already satisfied: nodeenv>=0.11.1 in ./dev/lib/python3.8/site-packages (from pre-commit->GeneralRelativity==0.1) (1.9.1)\n",
      "Requirement already satisfied: virtualenv>=20.10.0 in ./dev/lib/python3.8/site-packages (from pre-commit->GeneralRelativity==0.1) (20.26.3)\n",
      "Requirement already satisfied: iniconfig in ./dev/lib/python3.8/site-packages (from pytest->GeneralRelativity==0.1) (2.0.0)\n",
      "Requirement already satisfied: pluggy<2,>=1.5 in ./dev/lib/python3.8/site-packages (from pytest->GeneralRelativity==0.1) (1.5.0)\n",
      "Requirement already satisfied: exceptiongroup>=1.0.0rc8 in ./dev/lib/python3.8/site-packages (from pytest->GeneralRelativity==0.1) (1.2.2)\n",
      "Requirement already satisfied: filelock in ./dev/lib/python3.8/site-packages (from torch->GeneralRelativity==0.1) (3.15.4)\n",
      "Requirement already satisfied: sympy in ./dev/lib/python3.8/site-packages (from torch->GeneralRelativity==0.1) (1.13.1)\n",
      "Requirement already satisfied: networkx in ./dev/lib/python3.8/site-packages (from torch->GeneralRelativity==0.1) (3.1)\n",
      "Requirement already satisfied: jinja2 in ./dev/lib/python3.8/site-packages (from torch->GeneralRelativity==0.1) (3.1.4)\n",
      "Requirement already satisfied: fsspec in ./dev/lib/python3.8/site-packages (from torch->GeneralRelativity==0.1) (2024.6.1)\n",
      "Requirement already satisfied: docker-pycreds>=0.4.0 in ./dev/lib/python3.8/site-packages (from wandb->GeneralRelativity==0.1) (0.4.0)\n",
      "Requirement already satisfied: gitpython!=3.1.29,>=1.0.0 in ./dev/lib/python3.8/site-packages (from wandb->GeneralRelativity==0.1) (3.1.43)\n",
      "Requirement already satisfied: protobuf!=4.21.0,<6,>=3.19.0 in ./dev/lib/python3.8/site-packages (from wandb->GeneralRelativity==0.1) (5.27.3)\n",
      "Requirement already satisfied: psutil>=5.0.0 in ./dev/lib/python3.8/site-packages (from wandb->GeneralRelativity==0.1) (6.0.0)\n",
      "Requirement already satisfied: requests<3,>=2.0.0 in ./dev/lib/python3.8/site-packages (from wandb->GeneralRelativity==0.1) (2.32.3)\n",
      "Requirement already satisfied: sentry-sdk>=1.0.0 in ./dev/lib/python3.8/site-packages (from wandb->GeneralRelativity==0.1) (2.12.0)\n",
      "Requirement already satisfied: setproctitle in ./dev/lib/python3.8/site-packages (from wandb->GeneralRelativity==0.1) (1.3.3)\n",
      "Requirement already satisfied: setuptools in ./dev/lib/python3.8/site-packages (from wandb->GeneralRelativity==0.1) (70.2.0)\n",
      "Requirement already satisfied: six>=1.4.0 in ./dev/lib/python3.8/site-packages (from docker-pycreds>=0.4.0->wandb->GeneralRelativity==0.1) (1.16.0)\n",
      "Requirement already satisfied: gitdb<5,>=4.0.1 in ./dev/lib/python3.8/site-packages (from gitpython!=3.1.29,>=1.0.0->wandb->GeneralRelativity==0.1) (4.0.11)\n",
      "Requirement already satisfied: zipp>=3.1.0 in ./dev/lib/python3.8/site-packages (from importlib-resources>=3.2.0->matplotlib->GeneralRelativity==0.1) (3.19.2)\n",
      "Requirement already satisfied: charset-normalizer<4,>=2 in ./dev/lib/python3.8/site-packages (from requests<3,>=2.0.0->wandb->GeneralRelativity==0.1) (3.3.2)\n",
      "Requirement already satisfied: idna<4,>=2.5 in ./dev/lib/python3.8/site-packages (from requests<3,>=2.0.0->wandb->GeneralRelativity==0.1) (3.7)\n",
      "Requirement already satisfied: urllib3<3,>=1.21.1 in ./dev/lib/python3.8/site-packages (from requests<3,>=2.0.0->wandb->GeneralRelativity==0.1) (2.2.2)\n",
      "Requirement already satisfied: certifi>=2017.4.17 in ./dev/lib/python3.8/site-packages (from requests<3,>=2.0.0->wandb->GeneralRelativity==0.1) (2024.7.4)\n",
      "Requirement already satisfied: distlib<1,>=0.3.7 in ./dev/lib/python3.8/site-packages (from virtualenv>=20.10.0->pre-commit->GeneralRelativity==0.1) (0.3.8)\n",
      "Requirement already satisfied: appnope in ./dev/lib/python3.8/site-packages (from ipykernel->jupyter->GeneralRelativity==0.1) (0.1.4)\n",
      "Requirement already satisfied: comm>=0.1.1 in ./dev/lib/python3.8/site-packages (from ipykernel->jupyter->GeneralRelativity==0.1) (0.2.2)\n",
      "Requirement already satisfied: debugpy>=1.6.5 in ./dev/lib/python3.8/site-packages (from ipykernel->jupyter->GeneralRelativity==0.1) (1.8.3)\n",
      "Requirement already satisfied: ipython>=7.23.1 in ./dev/lib/python3.8/site-packages (from ipykernel->jupyter->GeneralRelativity==0.1) (8.12.3)\n",
      "Requirement already satisfied: jupyter-client>=6.1.12 in ./dev/lib/python3.8/site-packages (from ipykernel->jupyter->GeneralRelativity==0.1) (8.6.2)\n",
      "Requirement already satisfied: jupyter-core!=5.0.*,>=4.12 in ./dev/lib/python3.8/site-packages (from ipykernel->jupyter->GeneralRelativity==0.1) (5.7.2)\n",
      "Requirement already satisfied: matplotlib-inline>=0.1 in ./dev/lib/python3.8/site-packages (from ipykernel->jupyter->GeneralRelativity==0.1) (0.1.7)\n",
      "Requirement already satisfied: nest-asyncio in ./dev/lib/python3.8/site-packages (from ipykernel->jupyter->GeneralRelativity==0.1) (1.6.0)\n",
      "Requirement already satisfied: pyzmq>=24 in ./dev/lib/python3.8/site-packages (from ipykernel->jupyter->GeneralRelativity==0.1) (26.1.0)\n",
      "Requirement already satisfied: tornado>=6.1 in ./dev/lib/python3.8/site-packages (from ipykernel->jupyter->GeneralRelativity==0.1) (6.4.1)\n",
      "Requirement already satisfied: traitlets>=5.4.0 in ./dev/lib/python3.8/site-packages (from ipykernel->jupyter->GeneralRelativity==0.1) (5.14.3)\n",
      "Requirement already satisfied: widgetsnbextension~=4.0.11 in ./dev/lib/python3.8/site-packages (from ipywidgets->jupyter->GeneralRelativity==0.1) (4.0.11)\n",
      "Requirement already satisfied: jupyterlab-widgets~=3.0.11 in ./dev/lib/python3.8/site-packages (from ipywidgets->jupyter->GeneralRelativity==0.1) (3.0.11)\n",
      "Requirement already satisfied: MarkupSafe>=2.0 in ./dev/lib/python3.8/site-packages (from jinja2->torch->GeneralRelativity==0.1) (2.1.5)\n",
      "Requirement already satisfied: prompt-toolkit>=3.0.30 in ./dev/lib/python3.8/site-packages (from jupyter-console->jupyter->GeneralRelativity==0.1) (3.0.47)\n",
      "Requirement already satisfied: pygments in ./dev/lib/python3.8/site-packages (from jupyter-console->jupyter->GeneralRelativity==0.1) (2.18.0)\n",
      "Requirement already satisfied: beautifulsoup4 in ./dev/lib/python3.8/site-packages (from nbconvert->jupyter->GeneralRelativity==0.1) (4.12.3)\n",
      "Requirement already satisfied: bleach!=5.0.0 in ./dev/lib/python3.8/site-packages (from nbconvert->jupyter->GeneralRelativity==0.1) (6.1.0)\n",
      "Requirement already satisfied: defusedxml in ./dev/lib/python3.8/site-packages (from nbconvert->jupyter->GeneralRelativity==0.1) (0.7.1)\n",
      "Requirement already satisfied: importlib-metadata>=3.6 in ./dev/lib/python3.8/site-packages (from nbconvert->jupyter->GeneralRelativity==0.1) (8.2.0)\n",
      "Requirement already satisfied: jupyterlab-pygments in ./dev/lib/python3.8/site-packages (from nbconvert->jupyter->GeneralRelativity==0.1) (0.3.0)\n",
      "Requirement already satisfied: mistune<4,>=2.0.3 in ./dev/lib/python3.8/site-packages (from nbconvert->jupyter->GeneralRelativity==0.1) (3.0.2)\n",
      "Requirement already satisfied: nbclient>=0.5.0 in ./dev/lib/python3.8/site-packages (from nbconvert->jupyter->GeneralRelativity==0.1) (0.10.0)\n",
      "Requirement already satisfied: nbformat>=5.7 in ./dev/lib/python3.8/site-packages (from nbconvert->jupyter->GeneralRelativity==0.1) (5.10.4)\n",
      "Requirement already satisfied: pandocfilters>=1.4.1 in ./dev/lib/python3.8/site-packages (from nbconvert->jupyter->GeneralRelativity==0.1) (1.5.1)\n",
      "Requirement already satisfied: tinycss2 in ./dev/lib/python3.8/site-packages (from nbconvert->jupyter->GeneralRelativity==0.1) (1.3.0)\n",
      "Requirement already satisfied: jupyter-server<3,>=2.4.0 in ./dev/lib/python3.8/site-packages (from notebook->jupyter->GeneralRelativity==0.1) (2.14.2)\n",
      "Requirement already satisfied: jupyterlab-server<3,>=2.27.1 in ./dev/lib/python3.8/site-packages (from notebook->jupyter->GeneralRelativity==0.1) (2.27.3)\n",
      "Requirement already satisfied: jupyterlab<4.3,>=4.2.0 in ./dev/lib/python3.8/site-packages (from notebook->jupyter->GeneralRelativity==0.1) (4.2.4)\n",
      "Requirement already satisfied: notebook-shim<0.3,>=0.2 in ./dev/lib/python3.8/site-packages (from notebook->jupyter->GeneralRelativity==0.1) (0.2.4)\n",
      "Requirement already satisfied: qtpy>=2.4.0 in ./dev/lib/python3.8/site-packages (from qtconsole->jupyter->GeneralRelativity==0.1) (2.4.1)\n",
      "Requirement already satisfied: mpmath<1.4,>=1.1.0 in ./dev/lib/python3.8/site-packages (from sympy->torch->GeneralRelativity==0.1) (1.3.0)\n",
      "Requirement already satisfied: webencodings in ./dev/lib/python3.8/site-packages (from bleach!=5.0.0->nbconvert->jupyter->GeneralRelativity==0.1) (0.5.1)\n",
      "Requirement already satisfied: smmap<6,>=3.0.1 in ./dev/lib/python3.8/site-packages (from gitdb<5,>=4.0.1->gitpython!=3.1.29,>=1.0.0->wandb->GeneralRelativity==0.1) (5.0.1)\n",
      "Requirement already satisfied: backcall in ./dev/lib/python3.8/site-packages (from ipython>=7.23.1->ipykernel->jupyter->GeneralRelativity==0.1) (0.2.0)\n",
      "Requirement already satisfied: decorator in ./dev/lib/python3.8/site-packages (from ipython>=7.23.1->ipykernel->jupyter->GeneralRelativity==0.1) (5.1.1)\n",
      "Requirement already satisfied: jedi>=0.16 in ./dev/lib/python3.8/site-packages (from ipython>=7.23.1->ipykernel->jupyter->GeneralRelativity==0.1) (0.19.1)\n",
      "Requirement already satisfied: pickleshare in ./dev/lib/python3.8/site-packages (from ipython>=7.23.1->ipykernel->jupyter->GeneralRelativity==0.1) (0.7.5)\n",
      "Requirement already satisfied: stack-data in ./dev/lib/python3.8/site-packages (from ipython>=7.23.1->ipykernel->jupyter->GeneralRelativity==0.1) (0.6.3)\n",
      "Requirement already satisfied: pexpect>4.3 in ./dev/lib/python3.8/site-packages (from ipython>=7.23.1->ipykernel->jupyter->GeneralRelativity==0.1) (4.9.0)\n",
      "Requirement already satisfied: anyio>=3.1.0 in ./dev/lib/python3.8/site-packages (from jupyter-server<3,>=2.4.0->notebook->jupyter->GeneralRelativity==0.1) (4.4.0)\n",
      "Requirement already satisfied: argon2-cffi>=21.1 in ./dev/lib/python3.8/site-packages (from jupyter-server<3,>=2.4.0->notebook->jupyter->GeneralRelativity==0.1) (23.1.0)\n",
      "Requirement already satisfied: jupyter-events>=0.9.0 in ./dev/lib/python3.8/site-packages (from jupyter-server<3,>=2.4.0->notebook->jupyter->GeneralRelativity==0.1) (0.10.0)\n",
      "Requirement already satisfied: jupyter-server-terminals>=0.4.4 in ./dev/lib/python3.8/site-packages (from jupyter-server<3,>=2.4.0->notebook->jupyter->GeneralRelativity==0.1) (0.5.3)\n",
      "Requirement already satisfied: overrides>=5.0 in ./dev/lib/python3.8/site-packages (from jupyter-server<3,>=2.4.0->notebook->jupyter->GeneralRelativity==0.1) (7.7.0)\n",
      "Requirement already satisfied: prometheus-client>=0.9 in ./dev/lib/python3.8/site-packages (from jupyter-server<3,>=2.4.0->notebook->jupyter->GeneralRelativity==0.1) (0.20.0)\n",
      "Requirement already satisfied: send2trash>=1.8.2 in ./dev/lib/python3.8/site-packages (from jupyter-server<3,>=2.4.0->notebook->jupyter->GeneralRelativity==0.1) (1.8.3)\n",
      "Requirement already satisfied: terminado>=0.8.3 in ./dev/lib/python3.8/site-packages (from jupyter-server<3,>=2.4.0->notebook->jupyter->GeneralRelativity==0.1) (0.18.1)\n",
      "Requirement already satisfied: websocket-client>=1.7 in ./dev/lib/python3.8/site-packages (from jupyter-server<3,>=2.4.0->notebook->jupyter->GeneralRelativity==0.1) (1.8.0)\n",
      "Requirement already satisfied: async-lru>=1.0.0 in ./dev/lib/python3.8/site-packages (from jupyterlab<4.3,>=4.2.0->notebook->jupyter->GeneralRelativity==0.1) (2.0.4)\n",
      "Requirement already satisfied: httpx>=0.25.0 in ./dev/lib/python3.8/site-packages (from jupyterlab<4.3,>=4.2.0->notebook->jupyter->GeneralRelativity==0.1) (0.27.0)\n",
      "Requirement already satisfied: jupyter-lsp>=2.0.0 in ./dev/lib/python3.8/site-packages (from jupyterlab<4.3,>=4.2.0->notebook->jupyter->GeneralRelativity==0.1) (2.2.5)\n",
      "Requirement already satisfied: babel>=2.10 in ./dev/lib/python3.8/site-packages (from jupyterlab-server<3,>=2.27.1->notebook->jupyter->GeneralRelativity==0.1) (2.15.0)\n",
      "Requirement already satisfied: json5>=0.9.0 in ./dev/lib/python3.8/site-packages (from jupyterlab-server<3,>=2.27.1->notebook->jupyter->GeneralRelativity==0.1) (0.9.25)\n",
      "Requirement already satisfied: jsonschema>=4.18.0 in ./dev/lib/python3.8/site-packages (from jupyterlab-server<3,>=2.27.1->notebook->jupyter->GeneralRelativity==0.1) (4.23.0)\n",
      "Requirement already satisfied: fastjsonschema>=2.15 in ./dev/lib/python3.8/site-packages (from nbformat>=5.7->nbconvert->jupyter->GeneralRelativity==0.1) (2.20.0)\n",
      "Requirement already satisfied: wcwidth in ./dev/lib/python3.8/site-packages (from prompt-toolkit>=3.0.30->jupyter-console->jupyter->GeneralRelativity==0.1) (0.2.13)\n",
      "Requirement already satisfied: soupsieve>1.2 in ./dev/lib/python3.8/site-packages (from beautifulsoup4->nbconvert->jupyter->GeneralRelativity==0.1) (2.5)\n",
      "Requirement already satisfied: sniffio>=1.1 in ./dev/lib/python3.8/site-packages (from anyio>=3.1.0->jupyter-server<3,>=2.4.0->notebook->jupyter->GeneralRelativity==0.1) (1.3.1)\n",
      "Requirement already satisfied: argon2-cffi-bindings in ./dev/lib/python3.8/site-packages (from argon2-cffi>=21.1->jupyter-server<3,>=2.4.0->notebook->jupyter->GeneralRelativity==0.1) (21.2.0)\n",
      "Requirement already satisfied: httpcore==1.* in ./dev/lib/python3.8/site-packages (from httpx>=0.25.0->jupyterlab<4.3,>=4.2.0->notebook->jupyter->GeneralRelativity==0.1) (1.0.5)\n",
      "Requirement already satisfied: h11<0.15,>=0.13 in ./dev/lib/python3.8/site-packages (from httpcore==1.*->httpx>=0.25.0->jupyterlab<4.3,>=4.2.0->notebook->jupyter->GeneralRelativity==0.1) (0.14.0)\n",
      "Requirement already satisfied: parso<0.9.0,>=0.8.3 in ./dev/lib/python3.8/site-packages (from jedi>=0.16->ipython>=7.23.1->ipykernel->jupyter->GeneralRelativity==0.1) (0.8.4)\n",
      "Requirement already satisfied: attrs>=22.2.0 in ./dev/lib/python3.8/site-packages (from jsonschema>=4.18.0->jupyterlab-server<3,>=2.27.1->notebook->jupyter->GeneralRelativity==0.1) (24.1.0)\n",
      "Requirement already satisfied: jsonschema-specifications>=2023.03.6 in ./dev/lib/python3.8/site-packages (from jsonschema>=4.18.0->jupyterlab-server<3,>=2.27.1->notebook->jupyter->GeneralRelativity==0.1) (2023.12.1)\n",
      "Requirement already satisfied: pkgutil-resolve-name>=1.3.10 in ./dev/lib/python3.8/site-packages (from jsonschema>=4.18.0->jupyterlab-server<3,>=2.27.1->notebook->jupyter->GeneralRelativity==0.1) (1.3.10)\n",
      "Requirement already satisfied: referencing>=0.28.4 in ./dev/lib/python3.8/site-packages (from jsonschema>=4.18.0->jupyterlab-server<3,>=2.27.1->notebook->jupyter->GeneralRelativity==0.1) (0.35.1)\n",
      "Requirement already satisfied: rpds-py>=0.7.1 in ./dev/lib/python3.8/site-packages (from jsonschema>=4.18.0->jupyterlab-server<3,>=2.27.1->notebook->jupyter->GeneralRelativity==0.1) (0.19.1)\n",
      "Requirement already satisfied: python-json-logger>=2.0.4 in ./dev/lib/python3.8/site-packages (from jupyter-events>=0.9.0->jupyter-server<3,>=2.4.0->notebook->jupyter->GeneralRelativity==0.1) (2.0.7)\n",
      "Requirement already satisfied: rfc3339-validator in ./dev/lib/python3.8/site-packages (from jupyter-events>=0.9.0->jupyter-server<3,>=2.4.0->notebook->jupyter->GeneralRelativity==0.1) (0.1.4)\n",
      "Requirement already satisfied: rfc3986-validator>=0.1.1 in ./dev/lib/python3.8/site-packages (from jupyter-events>=0.9.0->jupyter-server<3,>=2.4.0->notebook->jupyter->GeneralRelativity==0.1) (0.1.1)\n",
      "Requirement already satisfied: ptyprocess>=0.5 in ./dev/lib/python3.8/site-packages (from pexpect>4.3->ipython>=7.23.1->ipykernel->jupyter->GeneralRelativity==0.1) (0.7.0)\n",
      "Requirement already satisfied: executing>=1.2.0 in ./dev/lib/python3.8/site-packages (from stack-data->ipython>=7.23.1->ipykernel->jupyter->GeneralRelativity==0.1) (2.0.1)\n",
      "Requirement already satisfied: asttokens>=2.1.0 in ./dev/lib/python3.8/site-packages (from stack-data->ipython>=7.23.1->ipykernel->jupyter->GeneralRelativity==0.1) (2.4.1)\n",
      "Requirement already satisfied: pure-eval in ./dev/lib/python3.8/site-packages (from stack-data->ipython>=7.23.1->ipykernel->jupyter->GeneralRelativity==0.1) (0.2.3)\n",
      "Requirement already satisfied: fqdn in ./dev/lib/python3.8/site-packages (from jsonschema[format-nongpl]>=4.18.0->jupyter-events>=0.9.0->jupyter-server<3,>=2.4.0->notebook->jupyter->GeneralRelativity==0.1) (1.5.1)\n",
      "Requirement already satisfied: isoduration in ./dev/lib/python3.8/site-packages (from jsonschema[format-nongpl]>=4.18.0->jupyter-events>=0.9.0->jupyter-server<3,>=2.4.0->notebook->jupyter->GeneralRelativity==0.1) (20.11.0)\n",
      "Requirement already satisfied: jsonpointer>1.13 in ./dev/lib/python3.8/site-packages (from jsonschema[format-nongpl]>=4.18.0->jupyter-events>=0.9.0->jupyter-server<3,>=2.4.0->notebook->jupyter->GeneralRelativity==0.1) (3.0.0)\n",
      "Requirement already satisfied: uri-template in ./dev/lib/python3.8/site-packages (from jsonschema[format-nongpl]>=4.18.0->jupyter-events>=0.9.0->jupyter-server<3,>=2.4.0->notebook->jupyter->GeneralRelativity==0.1) (1.3.0)\n",
      "Requirement already satisfied: webcolors>=24.6.0 in ./dev/lib/python3.8/site-packages (from jsonschema[format-nongpl]>=4.18.0->jupyter-events>=0.9.0->jupyter-server<3,>=2.4.0->notebook->jupyter->GeneralRelativity==0.1) (24.6.0)\n",
      "Requirement already satisfied: cffi>=1.0.1 in ./dev/lib/python3.8/site-packages (from argon2-cffi-bindings->argon2-cffi>=21.1->jupyter-server<3,>=2.4.0->notebook->jupyter->GeneralRelativity==0.1) (1.16.0)\n",
      "Requirement already satisfied: pycparser in ./dev/lib/python3.8/site-packages (from cffi>=1.0.1->argon2-cffi-bindings->argon2-cffi>=21.1->jupyter-server<3,>=2.4.0->notebook->jupyter->GeneralRelativity==0.1) (2.22)\n",
      "Requirement already satisfied: arrow>=0.15.0 in ./dev/lib/python3.8/site-packages (from isoduration->jsonschema[format-nongpl]>=4.18.0->jupyter-events>=0.9.0->jupyter-server<3,>=2.4.0->notebook->jupyter->GeneralRelativity==0.1) (1.3.0)\n",
      "Requirement already satisfied: types-python-dateutil>=2.8.10 in ./dev/lib/python3.8/site-packages (from arrow>=0.15.0->isoduration->jsonschema[format-nongpl]>=4.18.0->jupyter-events>=0.9.0->jupyter-server<3,>=2.4.0->notebook->jupyter->GeneralRelativity==0.1) (2.9.0.20240316)\n",
      "Building wheels for collected packages: GeneralRelativity\n",
      "  Building wheel for GeneralRelativity (setup.py) ... \u001b[?25ldone\n",
      "\u001b[?25h  Created wheel for GeneralRelativity: filename=GeneralRelativity-0.1-py3-none-any.whl size=3399 sha256=dae5bc717b1053142db7e5015270780cc10a9244ce3543f02b9c4fe68f18e953\n",
      "  Stored in directory: /private/var/folders/br/rfmwms_96jb8rrxcrsp81mqh0000gn/T/pip-ephem-wheel-cache-ho8fhkbd/wheels/7e/56/3a/dbd713ac6a7a2c158d2d7cbf655d63eb4a1db21d5035d47ca4\n",
      "Successfully built GeneralRelativity\n",
      "Installing collected packages: GeneralRelativity\n",
      "Successfully installed GeneralRelativity-0.1\n",
      "\n",
      "\u001b[1m[\u001b[0m\u001b[34;49mnotice\u001b[0m\u001b[1;39;49m]\u001b[0m\u001b[39;49m A new release of pip is available: \u001b[0m\u001b[31;49m24.0\u001b[0m\u001b[39;49m -> \u001b[0m\u001b[32;49m24.2\u001b[0m\n",
      "\u001b[1m[\u001b[0m\u001b[34;49mnotice\u001b[0m\u001b[1;39;49m]\u001b[0m\u001b[39;49m To update, run: \u001b[0m\u001b[32;49mpip install --upgrade pip\u001b[0m\n",
      "Requirement already satisfied: pandas in ./dev/lib/python3.8/site-packages (2.0.3)\n",
      "Collecting scikit-learn\n",
      "  Using cached scikit_learn-1.3.2-cp38-cp38-macosx_10_9_x86_64.whl.metadata (11 kB)\n",
      "Collecting tensorboard\n",
      "  Using cached tensorboard-2.14.0-py3-none-any.whl.metadata (1.8 kB)\n",
      "Requirement already satisfied: torch in ./dev/lib/python3.8/site-packages (2.2.2)\n",
      "Requirement already satisfied: tqdm in ./dev/lib/python3.8/site-packages (4.66.5)\n",
      "Requirement already satisfied: python-dateutil>=2.8.2 in ./dev/lib/python3.8/site-packages (from pandas) (2.9.0.post0)\n",
      "Requirement already satisfied: pytz>=2020.1 in ./dev/lib/python3.8/site-packages (from pandas) (2024.1)\n",
      "Requirement already satisfied: tzdata>=2022.1 in ./dev/lib/python3.8/site-packages (from pandas) (2024.1)\n",
      "Requirement already satisfied: numpy>=1.20.3 in ./dev/lib/python3.8/site-packages (from pandas) (1.24.4)\n",
      "Collecting scipy>=1.5.0 (from scikit-learn)\n",
      "  Using cached scipy-1.10.1-cp38-cp38-macosx_10_9_x86_64.whl.metadata (53 kB)\n",
      "Collecting joblib>=1.1.1 (from scikit-learn)\n",
      "  Using cached joblib-1.4.2-py3-none-any.whl.metadata (5.4 kB)\n",
      "Collecting threadpoolctl>=2.0.0 (from scikit-learn)\n",
      "  Using cached threadpoolctl-3.5.0-py3-none-any.whl.metadata (13 kB)\n",
      "Collecting absl-py>=0.4 (from tensorboard)\n",
      "  Using cached absl_py-2.1.0-py3-none-any.whl.metadata (2.3 kB)\n",
      "Collecting grpcio>=1.48.2 (from tensorboard)\n",
      "  Downloading grpcio-1.65.4-cp38-cp38-macosx_10_9_universal2.whl.metadata (3.3 kB)\n",
      "Collecting google-auth<3,>=1.6.3 (from tensorboard)\n",
      "  Downloading google_auth-2.32.0-py2.py3-none-any.whl.metadata (4.7 kB)\n",
      "Collecting google-auth-oauthlib<1.1,>=0.5 (from tensorboard)\n",
      "  Using cached google_auth_oauthlib-1.0.0-py2.py3-none-any.whl.metadata (2.7 kB)\n",
      "Collecting markdown>=2.6.8 (from tensorboard)\n",
      "  Using cached Markdown-3.6-py3-none-any.whl.metadata (7.0 kB)\n",
      "Requirement already satisfied: protobuf>=3.19.6 in ./dev/lib/python3.8/site-packages (from tensorboard) (5.27.3)\n",
      "Requirement already satisfied: requests<3,>=2.21.0 in ./dev/lib/python3.8/site-packages (from tensorboard) (2.32.3)\n",
      "Requirement already satisfied: setuptools>=41.0.0 in ./dev/lib/python3.8/site-packages (from tensorboard) (70.2.0)\n",
      "Collecting tensorboard-data-server<0.8.0,>=0.7.0 (from tensorboard)\n",
      "  Using cached tensorboard_data_server-0.7.2-py3-none-macosx_10_9_x86_64.whl.metadata (1.1 kB)\n",
      "Collecting werkzeug>=1.0.1 (from tensorboard)\n",
      "  Downloading werkzeug-3.0.3-py3-none-any.whl.metadata (3.7 kB)\n",
      "Requirement already satisfied: wheel>=0.26 in ./dev/lib/python3.8/site-packages (from tensorboard) (0.43.0)\n",
      "Requirement already satisfied: filelock in ./dev/lib/python3.8/site-packages (from torch) (3.15.4)\n",
      "Requirement already satisfied: typing-extensions>=4.8.0 in ./dev/lib/python3.8/site-packages (from torch) (4.12.2)\n",
      "Requirement already satisfied: sympy in ./dev/lib/python3.8/site-packages (from torch) (1.13.1)\n",
      "Requirement already satisfied: networkx in ./dev/lib/python3.8/site-packages (from torch) (3.1)\n",
      "Requirement already satisfied: jinja2 in ./dev/lib/python3.8/site-packages (from torch) (3.1.4)\n",
      "Requirement already satisfied: fsspec in ./dev/lib/python3.8/site-packages (from torch) (2024.6.1)\n",
      "Collecting cachetools<6.0,>=2.0.0 (from google-auth<3,>=1.6.3->tensorboard)\n",
      "  Downloading cachetools-5.4.0-py3-none-any.whl.metadata (5.3 kB)\n",
      "Collecting pyasn1-modules>=0.2.1 (from google-auth<3,>=1.6.3->tensorboard)\n",
      "  Using cached pyasn1_modules-0.4.0-py3-none-any.whl.metadata (3.4 kB)\n",
      "Collecting rsa<5,>=3.1.4 (from google-auth<3,>=1.6.3->tensorboard)\n",
      "  Using cached rsa-4.9-py3-none-any.whl.metadata (4.2 kB)\n",
      "Collecting requests-oauthlib>=0.7.0 (from google-auth-oauthlib<1.1,>=0.5->tensorboard)\n",
      "  Using cached requests_oauthlib-2.0.0-py2.py3-none-any.whl.metadata (11 kB)\n",
      "Requirement already satisfied: importlib-metadata>=4.4 in ./dev/lib/python3.8/site-packages (from markdown>=2.6.8->tensorboard) (8.2.0)\n",
      "Requirement already satisfied: six>=1.5 in ./dev/lib/python3.8/site-packages (from python-dateutil>=2.8.2->pandas) (1.16.0)\n",
      "Requirement already satisfied: charset-normalizer<4,>=2 in ./dev/lib/python3.8/site-packages (from requests<3,>=2.21.0->tensorboard) (3.3.2)\n",
      "Requirement already satisfied: idna<4,>=2.5 in ./dev/lib/python3.8/site-packages (from requests<3,>=2.21.0->tensorboard) (3.7)\n",
      "Requirement already satisfied: urllib3<3,>=1.21.1 in ./dev/lib/python3.8/site-packages (from requests<3,>=2.21.0->tensorboard) (2.2.2)\n",
      "Requirement already satisfied: certifi>=2017.4.17 in ./dev/lib/python3.8/site-packages (from requests<3,>=2.21.0->tensorboard) (2024.7.4)\n",
      "Requirement already satisfied: MarkupSafe>=2.1.1 in ./dev/lib/python3.8/site-packages (from werkzeug>=1.0.1->tensorboard) (2.1.5)\n",
      "Requirement already satisfied: mpmath<1.4,>=1.1.0 in ./dev/lib/python3.8/site-packages (from sympy->torch) (1.3.0)\n",
      "Requirement already satisfied: zipp>=0.5 in ./dev/lib/python3.8/site-packages (from importlib-metadata>=4.4->markdown>=2.6.8->tensorboard) (3.19.2)\n",
      "Collecting pyasn1<0.7.0,>=0.4.6 (from pyasn1-modules>=0.2.1->google-auth<3,>=1.6.3->tensorboard)\n",
      "  Using cached pyasn1-0.6.0-py2.py3-none-any.whl.metadata (8.3 kB)\n",
      "Collecting oauthlib>=3.0.0 (from requests-oauthlib>=0.7.0->google-auth-oauthlib<1.1,>=0.5->tensorboard)\n",
      "  Using cached oauthlib-3.2.2-py3-none-any.whl.metadata (7.5 kB)\n",
      "Using cached scikit_learn-1.3.2-cp38-cp38-macosx_10_9_x86_64.whl (10.1 MB)\n",
      "Using cached tensorboard-2.14.0-py3-none-any.whl (5.5 MB)\n",
      "Using cached absl_py-2.1.0-py3-none-any.whl (133 kB)\n",
      "Downloading google_auth-2.32.0-py2.py3-none-any.whl (195 kB)\n",
      "\u001b[2K   \u001b[38;2;114;156;31m━━━━━━━━━━━━━━━━━━━━━━━━━━━━━━━━━━━━━━━━\u001b[0m \u001b[32m195.5/195.5 kB\u001b[0m \u001b[31m4.1 MB/s\u001b[0m eta \u001b[36m0:00:00\u001b[0m0m eta \u001b[36m0:00:01\u001b[0m\n",
      "\u001b[?25hUsing cached google_auth_oauthlib-1.0.0-py2.py3-none-any.whl (18 kB)\n",
      "Downloading grpcio-1.65.4-cp38-cp38-macosx_10_9_universal2.whl (10.5 MB)\n",
      "\u001b[2K   \u001b[38;2;114;156;31m━━━━━━━━━━━━━━━━━━━━━━━━━━━━━━━━━━━━━━━━\u001b[0m \u001b[32m10.5/10.5 MB\u001b[0m \u001b[31m47.9 MB/s\u001b[0m eta \u001b[36m0:00:00\u001b[0mm eta \u001b[36m0:00:01\u001b[0m36m0:00:01\u001b[0m\n",
      "\u001b[?25hUsing cached joblib-1.4.2-py3-none-any.whl (301 kB)\n",
      "Using cached Markdown-3.6-py3-none-any.whl (105 kB)\n",
      "Using cached scipy-1.10.1-cp38-cp38-macosx_10_9_x86_64.whl (35.0 MB)\n",
      "Using cached tensorboard_data_server-0.7.2-py3-none-macosx_10_9_x86_64.whl (4.8 MB)\n",
      "Using cached threadpoolctl-3.5.0-py3-none-any.whl (18 kB)\n",
      "Downloading werkzeug-3.0.3-py3-none-any.whl (227 kB)\n",
      "\u001b[2K   \u001b[38;2;114;156;31m━━━━━━━━━━━━━━━━━━━━━━━━━━━━━━━━━━━━━━━━\u001b[0m \u001b[32m227.3/227.3 kB\u001b[0m \u001b[31m7.6 MB/s\u001b[0m eta \u001b[36m0:00:00\u001b[0m\n",
      "\u001b[?25hDownloading cachetools-5.4.0-py3-none-any.whl (9.5 kB)\n",
      "Using cached pyasn1_modules-0.4.0-py3-none-any.whl (181 kB)\n",
      "Using cached requests_oauthlib-2.0.0-py2.py3-none-any.whl (24 kB)\n",
      "Using cached rsa-4.9-py3-none-any.whl (34 kB)\n",
      "Using cached oauthlib-3.2.2-py3-none-any.whl (151 kB)\n",
      "Using cached pyasn1-0.6.0-py2.py3-none-any.whl (85 kB)\n",
      "Installing collected packages: werkzeug, threadpoolctl, tensorboard-data-server, scipy, pyasn1, oauthlib, joblib, grpcio, cachetools, absl-py, scikit-learn, rsa, requests-oauthlib, pyasn1-modules, markdown, google-auth, google-auth-oauthlib, tensorboard\n",
      "Successfully installed absl-py-2.1.0 cachetools-5.4.0 google-auth-2.32.0 google-auth-oauthlib-1.0.0 grpcio-1.65.4 joblib-1.4.2 markdown-3.6 oauthlib-3.2.2 pyasn1-0.6.0 pyasn1-modules-0.4.0 requests-oauthlib-2.0.0 rsa-4.9 scikit-learn-1.3.2 scipy-1.10.1 tensorboard-2.14.0 tensorboard-data-server-0.7.2 threadpoolctl-3.5.0 werkzeug-3.0.3\n",
      "\n",
      "\u001b[1m[\u001b[0m\u001b[34;49mnotice\u001b[0m\u001b[1;39;49m]\u001b[0m\u001b[39;49m A new release of pip is available: \u001b[0m\u001b[31;49m24.0\u001b[0m\u001b[39;49m -> \u001b[0m\u001b[32;49m24.2\u001b[0m\n",
      "\u001b[1m[\u001b[0m\u001b[34;49mnotice\u001b[0m\u001b[1;39;49m]\u001b[0m\u001b[39;49m To update, run: \u001b[0m\u001b[32;49mpip install --upgrade pip\u001b[0m\n",
      "Requirement already satisfied: pyinterpx in ./dev/lib/python3.8/site-packages (0.2.3)\n",
      "Requirement already satisfied: torch in ./dev/lib/python3.8/site-packages (from pyinterpx) (2.2.2)\n",
      "Requirement already satisfied: black in ./dev/lib/python3.8/site-packages (from pyinterpx) (24.8.0)\n",
      "Requirement already satisfied: pre-commit in ./dev/lib/python3.8/site-packages (from pyinterpx) (3.5.0)\n",
      "Requirement already satisfied: pytest in ./dev/lib/python3.8/site-packages (from pyinterpx) (8.3.2)\n",
      "Requirement already satisfied: numpy in ./dev/lib/python3.8/site-packages (from pyinterpx) (1.24.4)\n",
      "Requirement already satisfied: tqdm in ./dev/lib/python3.8/site-packages (from pyinterpx) (4.66.5)\n",
      "Requirement already satisfied: matplotlib in ./dev/lib/python3.8/site-packages (from pyinterpx) (3.7.5)\n",
      "Requirement already satisfied: click>=8.0.0 in ./dev/lib/python3.8/site-packages (from black->pyinterpx) (8.1.7)\n",
      "Requirement already satisfied: mypy-extensions>=0.4.3 in ./dev/lib/python3.8/site-packages (from black->pyinterpx) (1.0.0)\n",
      "Requirement already satisfied: packaging>=22.0 in ./dev/lib/python3.8/site-packages (from black->pyinterpx) (24.1)\n",
      "Requirement already satisfied: pathspec>=0.9.0 in ./dev/lib/python3.8/site-packages (from black->pyinterpx) (0.12.1)\n",
      "Requirement already satisfied: platformdirs>=2 in ./dev/lib/python3.8/site-packages (from black->pyinterpx) (4.2.2)\n",
      "Requirement already satisfied: tomli>=1.1.0 in ./dev/lib/python3.8/site-packages (from black->pyinterpx) (2.0.1)\n",
      "Requirement already satisfied: typing-extensions>=4.0.1 in ./dev/lib/python3.8/site-packages (from black->pyinterpx) (4.12.2)\n",
      "Requirement already satisfied: contourpy>=1.0.1 in ./dev/lib/python3.8/site-packages (from matplotlib->pyinterpx) (1.1.1)\n",
      "Requirement already satisfied: cycler>=0.10 in ./dev/lib/python3.8/site-packages (from matplotlib->pyinterpx) (0.12.1)\n",
      "Requirement already satisfied: fonttools>=4.22.0 in ./dev/lib/python3.8/site-packages (from matplotlib->pyinterpx) (4.53.1)\n",
      "Requirement already satisfied: kiwisolver>=1.0.1 in ./dev/lib/python3.8/site-packages (from matplotlib->pyinterpx) (1.4.5)\n",
      "Requirement already satisfied: pillow>=6.2.0 in ./dev/lib/python3.8/site-packages (from matplotlib->pyinterpx) (10.4.0)\n",
      "Requirement already satisfied: pyparsing>=2.3.1 in ./dev/lib/python3.8/site-packages (from matplotlib->pyinterpx) (3.1.2)\n",
      "Requirement already satisfied: python-dateutil>=2.7 in ./dev/lib/python3.8/site-packages (from matplotlib->pyinterpx) (2.9.0.post0)\n",
      "Requirement already satisfied: importlib-resources>=3.2.0 in ./dev/lib/python3.8/site-packages (from matplotlib->pyinterpx) (6.4.0)\n",
      "Requirement already satisfied: cfgv>=2.0.0 in ./dev/lib/python3.8/site-packages (from pre-commit->pyinterpx) (3.4.0)\n",
      "Requirement already satisfied: identify>=1.0.0 in ./dev/lib/python3.8/site-packages (from pre-commit->pyinterpx) (2.6.0)\n",
      "Requirement already satisfied: nodeenv>=0.11.1 in ./dev/lib/python3.8/site-packages (from pre-commit->pyinterpx) (1.9.1)\n",
      "Requirement already satisfied: pyyaml>=5.1 in ./dev/lib/python3.8/site-packages (from pre-commit->pyinterpx) (6.0.1)\n",
      "Requirement already satisfied: virtualenv>=20.10.0 in ./dev/lib/python3.8/site-packages (from pre-commit->pyinterpx) (20.26.3)\n",
      "Requirement already satisfied: iniconfig in ./dev/lib/python3.8/site-packages (from pytest->pyinterpx) (2.0.0)\n",
      "Requirement already satisfied: pluggy<2,>=1.5 in ./dev/lib/python3.8/site-packages (from pytest->pyinterpx) (1.5.0)\n",
      "Requirement already satisfied: exceptiongroup>=1.0.0rc8 in ./dev/lib/python3.8/site-packages (from pytest->pyinterpx) (1.2.2)\n",
      "Requirement already satisfied: filelock in ./dev/lib/python3.8/site-packages (from torch->pyinterpx) (3.15.4)\n",
      "Requirement already satisfied: sympy in ./dev/lib/python3.8/site-packages (from torch->pyinterpx) (1.13.1)\n",
      "Requirement already satisfied: networkx in ./dev/lib/python3.8/site-packages (from torch->pyinterpx) (3.1)\n",
      "Requirement already satisfied: jinja2 in ./dev/lib/python3.8/site-packages (from torch->pyinterpx) (3.1.4)\n",
      "Requirement already satisfied: fsspec in ./dev/lib/python3.8/site-packages (from torch->pyinterpx) (2024.6.1)\n",
      "Requirement already satisfied: zipp>=3.1.0 in ./dev/lib/python3.8/site-packages (from importlib-resources>=3.2.0->matplotlib->pyinterpx) (3.19.2)\n",
      "Requirement already satisfied: six>=1.5 in ./dev/lib/python3.8/site-packages (from python-dateutil>=2.7->matplotlib->pyinterpx) (1.16.0)\n",
      "Requirement already satisfied: distlib<1,>=0.3.7 in ./dev/lib/python3.8/site-packages (from virtualenv>=20.10.0->pre-commit->pyinterpx) (0.3.8)\n",
      "Requirement already satisfied: MarkupSafe>=2.0 in ./dev/lib/python3.8/site-packages (from jinja2->torch->pyinterpx) (2.1.5)\n",
      "Requirement already satisfied: mpmath<1.4,>=1.1.0 in ./dev/lib/python3.8/site-packages (from sympy->torch->pyinterpx) (1.3.0)\n",
      "\n",
      "\u001b[1m[\u001b[0m\u001b[34;49mnotice\u001b[0m\u001b[1;39;49m]\u001b[0m\u001b[39;49m A new release of pip is available: \u001b[0m\u001b[31;49m24.0\u001b[0m\u001b[39;49m -> \u001b[0m\u001b[32;49m24.2\u001b[0m\n",
      "\u001b[1m[\u001b[0m\u001b[34;49mnotice\u001b[0m\u001b[1;39;49m]\u001b[0m\u001b[39;49m To update, run: \u001b[0m\u001b[32;49mpip install --upgrade pip\u001b[0m\n",
      "Requirement already satisfied: scikit-learn in ./dev/lib/python3.8/site-packages (1.3.2)\n",
      "Requirement already satisfied: numpy<2.0,>=1.17.3 in ./dev/lib/python3.8/site-packages (from scikit-learn) (1.24.4)\n",
      "Requirement already satisfied: scipy>=1.5.0 in ./dev/lib/python3.8/site-packages (from scikit-learn) (1.10.1)\n",
      "Requirement already satisfied: joblib>=1.1.1 in ./dev/lib/python3.8/site-packages (from scikit-learn) (1.4.2)\n",
      "Requirement already satisfied: threadpoolctl>=2.0.0 in ./dev/lib/python3.8/site-packages (from scikit-learn) (3.5.0)\n",
      "\n",
      "\u001b[1m[\u001b[0m\u001b[34;49mnotice\u001b[0m\u001b[1;39;49m]\u001b[0m\u001b[39;49m A new release of pip is available: \u001b[0m\u001b[31;49m24.0\u001b[0m\u001b[39;49m -> \u001b[0m\u001b[32;49m24.2\u001b[0m\n",
      "\u001b[1m[\u001b[0m\u001b[34;49mnotice\u001b[0m\u001b[1;39;49m]\u001b[0m\u001b[39;49m To update, run: \u001b[0m\u001b[32;49mpip install --upgrade pip\u001b[0m\n"
     ]
    }
   ],
   "source": [
    "!pip install .\n",
    "!pip install pandas scikit-learn tensorboard torch tqdm\n",
    "!pip install pyinterpx\n",
    "!pip install scikit-learn"
   ]
  },
  {
   "cell_type": "code",
   "execution_count": 80,
   "id": "113757c9-d051-41d3-9eab-5c65bc8c1098",
   "metadata": {},
   "outputs": [],
   "source": [
    "import torch\n",
    "import pandas as pd\n",
    "import numpy as np\n",
    "import time\n",
    "import os\n",
    "import matplotlib.pylab as plt\n",
    "from sklearn.preprocessing import StandardScaler\n",
    "from sklearn.model_selection import train_test_split\n",
    "from torch.autograd import Variable\n",
    "import pandas as pd\n",
    "from sklearn.metrics import r2_score\n",
    "from torch.utils.tensorboard import SummaryWriter\n",
    "from tqdm.auto import tqdm, trange\n",
    "from torch.utils.data import DataLoader, TensorDataset, random_split\n",
    "\n",
    "%reload_ext tensorboard\n",
    "from GeneralRelativity.Utils import (\n",
    "    get_box_format,\n",
    "    TensorDict,\n",
    "    cut_ghosts,\n",
    "    keys,\n",
    "    keys_all,\n",
    ")\n",
    "from GeneralRelativity.DimensionDefinitions import FOR1, FOR2, FOR3, FOR4\n",
    "from GeneralRelativity.FourthOrderDerivatives import diff1, diff2\n",
    "from pyinterpx.Interpolation import *\n",
    "from GeneralRelativity.TensorAlgebra import (\n",
    "    compute_christoffel,\n",
    "    compute_trace,\n",
    "    compute_christoffel_fast,\n",
    "    raise_all,\n",
    ")\n",
    "from GeneralRelativity.CCZ4Geometry import compute_ricci\n",
    "from GeneralRelativity.Constraints import constraint_equations\n",
    "\n",
    "\n",
    "from SuperResolution.models import (\n",
    "    SuperResolution3DNet,\n",
    "    calculate_test_loss,\n",
    "    load_model,\n",
    "    check_performance,\n",
    ")\n",
    "from SuperResolution.losses import Hamiltonian_loss\n",
    "\n",
    "time_stamp = int(time.time())"
   ]
  },
  {
   "cell_type": "code",
   "execution_count": 81,
   "id": "0581229a-6848-4bde-b6db-8bc5fdff61e5",
   "metadata": {},
   "outputs": [
    {
     "name": "stdout",
     "output_type": "stream",
     "text": [
      "Executing the model on : cpu\n"
     ]
    }
   ],
   "source": [
    "device = torch.device(\"cuda:0\" if torch.cuda.is_available() else \"cpu\")\n",
    "print(\"Executing the model on :\", device)\n",
    "\n",
    "torch.manual_seed(1)\n",
    "np.random.seed(4)\n",
    "writer = SummaryWriter()"
   ]
  },
  {
   "cell_type": "code",
   "execution_count": 128,
   "id": "4c57d113-0439-4c27-bcbc-c33f963c0c94",
   "metadata": {},
   "outputs": [
    {
     "name": "stdout",
     "output_type": "stream",
     "text": [
      "Loading data\n"
     ]
    },
    {
     "data": {
      "application/vnd.jupyter.widget-view+json": {
       "model_id": "b9facf3626454897b5a763cb232551d5",
       "version_major": 2,
       "version_minor": 0
      },
      "text/plain": [
       "  0%|          | 0/2 [00:00<?, ?it/s]"
      ]
     },
     "metadata": {},
     "output_type": "display_data"
    }
   ],
   "source": [
    "small_data = False\n",
    "\n",
    "# Loading small testdata\n",
    "if small_data:\n",
    "    filenamesX = (\n",
    "        \"/home/thelfer1/scr4_tedwar42/thelfer1/data_gen_binary/outputXdata_level1_*\"\n",
    "    )\n",
    "    num_vars = 100\n",
    "    factor = 2  # how much refinement\n",
    "    scaling_factor = 1e-2  # Scaling factor for error\n",
    "    dataX = get_box_format(filenamesX, num_vars)\n",
    "    # Cutting out extra values added for validation\n",
    "    dataX = dataX[:, :, :, :, :25]\n",
    "else:\n",
    "    # Instantiate the model\n",
    "    factor = 4  # how much refinement\n",
    "    res_level = 6\n",
    "    scaling_factor = 0.001\n",
    "    downsample = 1\n",
    "    filenamesX = f\"outputXdata_level6_step001*.dat\"  # \"/home/thelfer1/scr4_tedwar42/thelfer1/high_end_data/outputXdata_level{res_level}_step*.dat\"\n",
    "\n",
    "    num_vars = 25\n",
    "    dataX = get_box_format(filenamesX, num_vars)\n",
    "    # Cutting out extra values added for validation\n",
    "    dataX = dataX[:, :, :, :, :25]\n",
    "\n",
    "dataX_shape = dataX.shape\n",
    "# Permute data to put the channel as the second dimension (N, C, H, W, D)\n",
    "dataX = dataX.permute(0, 4, 1, 2, 3)"
   ]
  },
  {
   "cell_type": "code",
   "execution_count": 129,
   "id": "be3f4c01-2d76-48e1-907e-30c2e8f8b023",
   "metadata": {},
   "outputs": [
    {
     "data": {
      "text/plain": [
       "torch.Size([160, 25, 16, 16, 16])"
      ]
     },
     "execution_count": 129,
     "metadata": {},
     "output_type": "execute_result"
    }
   ],
   "source": [
    "dataX.shape"
   ]
  },
  {
   "cell_type": "code",
   "execution_count": 130,
   "id": "456b85c7-a008-43bd-9dd5-153b043d7ee6",
   "metadata": {},
   "outputs": [],
   "source": [
    "# global step counter\n",
    "counter = 0\n",
    "\n",
    "losses_train = []\n",
    "losses_val = []\n",
    "losses_val_interp = []\n",
    "steps_val = []"
   ]
  },
  {
   "cell_type": "code",
   "execution_count": 131,
   "id": "823b3067-1b41-4cb4-894b-32b3f14884e1",
   "metadata": {},
   "outputs": [
    {
     "name": "stdout",
     "output_type": "stream",
     "text": [
      "torch.Size([1, 25, 16, 16, 16])\n",
      "-14\n",
      "Input Shape: torch.Size([1, 25, 16, 16, 16])\n",
      "Output Shape: torch.Size([1, 25, 44, 44, 44])\n"
     ]
    }
   ],
   "source": [
    "# Create a random 3D low-resolution input tensor (batch size, channels, depth, height, width)\n",
    "input_tensor = torch.randn(\n",
    "    1,\n",
    "    dataX.shape[1],\n",
    "    dataX.shape[2] // downsample,\n",
    "    dataX.shape[3] // downsample,\n",
    "    dataX.shape[4] // downsample,\n",
    ").to(\n",
    "    torch.double\n",
    ")  # Adjust dimensions as needed\n",
    "\n",
    "# Instantiate the model\n",
    "net = SuperResolution3DNet(factor, scaling_factor).to(torch.double)\n",
    "\n",
    "print(input_tensor.shape)\n",
    "# Forward pass to obtain the high-resolution output\n",
    "output_tensor, _ = net(input_tensor)\n",
    "# Relevant for ghosts\n",
    "diff = (dataX_shape[-2] - output_tensor.shape[-1]) // 2\n",
    "print(diff)\n",
    "# Check the shape of the output\n",
    "print(\"Input Shape:\", input_tensor.shape)\n",
    "print(\"Output Shape:\", output_tensor.shape)"
   ]
  },
  {
   "cell_type": "code",
   "execution_count": 132,
   "id": "748ebfa6-d35a-4e65-8ca0-b7ee0e212d2b",
   "metadata": {},
   "outputs": [],
   "source": [
    "optimizerBFGS = torch.optim.LBFGS(\n",
    "    net.parameters(), lr=0.1\n",
    ")  # Use LBFGS sometimes, it really does do magic sometimes, though its a bit expensive\n",
    "optimizerADAM = torch.optim.Adam(net.parameters(), lr=0.0001)"
   ]
  },
  {
   "cell_type": "code",
   "execution_count": 141,
   "id": "6999db8f-b73b-4a36-b0a0-b70caaed8b0d",
   "metadata": {},
   "outputs": [],
   "source": [
    "# Define the ratio for the split (e.g., 80% train, 20% test)\n",
    "train_ratio = 0.8\n",
    "test_ratio = 1 - train_ratio\n",
    "batch_size = 1\n",
    "\n",
    "# Calculate the number of samples for each split\n",
    "num_samples = len(dataX)\n",
    "num_train = int(train_ratio * num_samples)\n",
    "num_test = num_samples - num_train\n",
    "\n",
    "\n",
    "# Create a dataset from tensors\n",
    "dataset = TensorDataset(dataX)\n",
    "\n",
    "# Split the dataset into training and testing datasets\n",
    "train_dataset, test_dataset = random_split(dataset, [num_train, num_test])\n",
    "\n",
    "# Create DataLoader for batching -- in case data gets larger\n",
    "train_loader = DataLoader(\n",
    "    dataset=train_dataset,\n",
    "    batch_size=batch_size,\n",
    "    shuffle=False,\n",
    "    pin_memory=False,\n",
    "    num_workers=0,\n",
    ")\n",
    "test_loader = DataLoader(\n",
    "    dataset=test_dataset,\n",
    "    batch_size=batch_size,\n",
    "    shuffle=False,\n",
    "    num_workers=0,\n",
    ")  # Batch size for test can be larger if you have the memory"
   ]
  },
  {
   "cell_type": "code",
   "execution_count": 142,
   "id": "1a7058ed-a1f3-4af5-ba97-f816558320c7",
   "metadata": {},
   "outputs": [
    {
     "name": "stdout",
     "output_type": "stream",
     "text": [
      "dx = 0.03125\n"
     ]
    }
   ],
   "source": [
    "# Magical loss coming from General Relativity\n",
    "if small_data:\n",
    "    oneoverdx = (2 * 32.0) / 16.0\n",
    "else:\n",
    "    oneoverdx = (64.0 * 2**res_level) / 512.0 * float(factor) / float(downsample)\n",
    "\n",
    "print(f\"dx = {1./oneoverdx}\")\n",
    "my_loss = Hamiltonian_loss(oneoverdx)"
   ]
  },
  {
   "cell_type": "code",
   "execution_count": 143,
   "id": "5498a0a7-87eb-463c-9e1f-34a4de94d561",
   "metadata": {},
   "outputs": [
    {
     "name": "stdout",
     "output_type": "stream",
     "text": [
      "\u001b[1m\u001b[36mx1_lvl5\u001b[m\u001b[m            \u001b[1m\u001b[36mx1_lvl8\u001b[m\u001b[m            \u001b[1m\u001b[36mx2_lvl5\u001b[m\u001b[m            \u001b[1m\u001b[36mx4_lvl5\u001b[m\u001b[m\n",
      "\u001b[1m\u001b[36mx1_lvl6\u001b[m\u001b[m            \u001b[1m\u001b[36mx1_lvl9\u001b[m\u001b[m            \u001b[1m\u001b[36mx2_lvl6\u001b[m\u001b[m\n",
      "\u001b[1m\u001b[36mx1_lvl7\u001b[m\u001b[m            \u001b[1m\u001b[36mx2_d2_lvl5\u001b[m\u001b[m         \u001b[1m\u001b[36mx2_lvl7\u001b[m\u001b[m\n",
      "\u001b[1m\u001b[36mx1_lvl7_align_true\u001b[m\u001b[m \u001b[1m\u001b[36mx2_d2_lvl5_L1\u001b[m\u001b[m      \u001b[1m\u001b[36mx2_lvl8\u001b[m\u001b[m\n"
     ]
    }
   ],
   "source": [
    "!ls models"
   ]
  },
  {
   "cell_type": "code",
   "execution_count": 144,
   "id": "e1b90a1e-79b0-44f0-9d59-65ba9d541581",
   "metadata": {},
   "outputs": [
    {
     "name": "stdout",
     "output_type": "stream",
     "text": [
      "Config file path: models/x4_lvl5/factor_4.yaml\n",
      "model_epoch_counter_0000000068_data_time_1722712289.pth\n",
      "cpu\n",
      "loaded model from models/x4_lvl5/model_epoch_counter_0000000068_data_time_1722712289.pth\n"
     ]
    }
   ],
   "source": [
    "restart = True\n",
    "load_restart_data = False\n",
    "if restart:\n",
    "    net, config = load_model(\"models/x4_lvl5\")\n",
    "if restart and load_restart_data:\n",
    "    num_vars = 25\n",
    "    dataX = get_box_format(config[\"filenamesX\"], num_vars)\n",
    "    oneoverdx = (64.0 * 2**res_level) / 512.0 * float(factor) / float(downsample)"
   ]
  },
  {
   "cell_type": "code",
   "execution_count": 121,
   "id": "592848df-f543-48fa-9d7f-7edf949a78da",
   "metadata": {},
   "outputs": [
    {
     "ename": "TypeError",
     "evalue": "check_performance() got an unexpected keyword argument 'my_loss'",
     "output_type": "error",
     "traceback": [
      "\u001b[0;31m---------------------------------------------------------------------------\u001b[0m",
      "\u001b[0;31mTypeError\u001b[0m                                 Traceback (most recent call last)",
      "Cell \u001b[0;32mIn[121], line 2\u001b[0m\n\u001b[1;32m      1\u001b[0m \u001b[38;5;66;03m# Check performance\u001b[39;00m\n\u001b[0;32m----> 2\u001b[0m L2Hmodelerror, L2Hinterp \u001b[38;5;241m=\u001b[39m \u001b[43mcheck_performance\u001b[49m\u001b[43m(\u001b[49m\n\u001b[1;32m      3\u001b[0m \u001b[43m    \u001b[49m\u001b[43mnet\u001b[49m\u001b[38;5;241;43m=\u001b[39;49m\u001b[43mnet\u001b[49m\u001b[43m,\u001b[49m\n\u001b[1;32m      4\u001b[0m \u001b[43m    \u001b[49m\u001b[43mmy_loss\u001b[49m\u001b[38;5;241;43m=\u001b[39;49m\u001b[43mmy_loss\u001b[49m\u001b[43m,\u001b[49m\n\u001b[1;32m      5\u001b[0m \u001b[43m    \u001b[49m\u001b[43mdatafolder\u001b[49m\u001b[38;5;241;43m=\u001b[39;49m\u001b[38;5;124;43mf\u001b[39;49m\u001b[38;5;124;43m\"\u001b[39;49m\u001b[38;5;124;43m/home/thelfer1/scr4_tedwar42/thelfer1/high_end_data_3/outputXdata_level\u001b[39;49m\u001b[38;5;132;43;01m{\u001b[39;49;00m\u001b[43mres_level\u001b[49m\u001b[38;5;132;43;01m}\u001b[39;49;00m\u001b[38;5;124;43m_step*.dat\u001b[39;49m\u001b[38;5;124;43m\"\u001b[39;49m\u001b[43m,\u001b[49m\n\u001b[1;32m      6\u001b[0m \u001b[43m    \u001b[49m\u001b[43mdevice\u001b[49m\u001b[38;5;241;43m=\u001b[39;49m\u001b[43mdevice\u001b[49m\u001b[43m,\u001b[49m\n\u001b[1;32m      7\u001b[0m \u001b[43m)\u001b[49m\n\u001b[1;32m      8\u001b[0m \u001b[38;5;28mprint\u001b[39m(\u001b[38;5;124mf\u001b[39m\u001b[38;5;124m\"\u001b[39m\u001b[38;5;124mwe have the performance \u001b[39m\u001b[38;5;132;01m{\u001b[39;00mL2Hmodelerror\u001b[38;5;132;01m}\u001b[39;00m\u001b[38;5;124m with baseline \u001b[39m\u001b[38;5;132;01m{\u001b[39;00mL2Hinterp\u001b[38;5;132;01m}\u001b[39;00m\u001b[38;5;124m\"\u001b[39m)\n",
      "\u001b[0;31mTypeError\u001b[0m: check_performance() got an unexpected keyword argument 'my_loss'"
     ]
    }
   ],
   "source": [
    "# Check performance\n",
    "L2Hmodelerror, L2Hinterp = check_performance(\n",
    "    net=net,\n",
    "    my_loss=my_loss,\n",
    "    datafolder=f\"/home/thelfer1/scr4_tedwar42/thelfer1/high_end_data_3/outputXdata_level{res_level}_step*.dat\",\n",
    "    device=device,\n",
    ")\n",
    "print(f\"we have the performance {L2Hmodelerror} with baseline {L2Hinterp}\")"
   ]
  },
  {
   "cell_type": "code",
   "execution_count": 61,
   "id": "f8f10c9c-b601-4ba0-b51e-c8377cc54e9c",
   "metadata": {},
   "outputs": [
    {
     "name": "stdout",
     "output_type": "stream",
     "text": [
      "training\n"
     ]
    },
    {
     "data": {
      "application/vnd.jupyter.widget-view+json": {
       "model_id": "af9759f866bc464c855f30dd85f06d03",
       "version_major": 2,
       "version_minor": 0
      },
      "text/plain": [
       "  0%|          | 0/1 [00:00<?, ?it/s]"
      ]
     },
     "metadata": {},
     "output_type": "display_data"
    },
    {
     "name": "stdout",
     "output_type": "stream",
     "text": [
      "7.973876499427724e-05\n"
     ]
    }
   ],
   "source": [
    "# For validation error\n",
    "L1Loss = torch.nn.L1Loss()\n",
    "ham_loss = Hamiltonian_and_momentum_loss(oneoverdx)\n",
    "\n",
    "print(\"training\")\n",
    "pbar = trange(n_steps)\n",
    "for i in pbar:\n",
    "    total_loss_train = 0\n",
    "    for (y_batch,) in train_loader:\n",
    "        net.train()\n",
    "        batchcounter = 0\n",
    "        # for X_batch, y_batch in train_loader:\n",
    "        y_batch = y_batch.to(device)\n",
    "        X_batch = y_batch[:, :, ::downsample, ::downsample, ::downsample].clone()\n",
    "        if diff != 0:\n",
    "            y_batch = y_batch[\n",
    "                :,\n",
    "                :25,\n",
    "                diff - 1 : -diff - 1,\n",
    "                diff - 1 : -diff - 1,\n",
    "                diff - 1 : -diff - 1,\n",
    "            ]\n",
    "        batchcounter += 1\n",
    "\n",
    "        # This is needed for LBFGS\n",
    "        def closure():\n",
    "            if torch.is_grad_enabled():\n",
    "                optimizerBFGS.zero_grad()\n",
    "            y_pred, y_interp = net(X_batch)\n",
    "\n",
    "            loss_train = my_loss(y_pred, y_batch)\n",
    "            if loss_train.requires_grad:\n",
    "                loss_train.backward()\n",
    "            return loss_train\n",
    "\n",
    "        # doing some ADAM first to warm up, sometimes BFGS fuckes up if you start too early\n",
    "        if counter < ADAMsteps:\n",
    "            y_pred, y_interp = net(X_batch)\n",
    "\n",
    "            loss_train = my_loss(y_pred, y_batch)\n",
    "            optimizerADAM.zero_grad()\n",
    "            loss_train.backward()\n",
    "            optimizerADAM.step()\n",
    "            # print(f'ADAM {batchcounter}')\n",
    "\n",
    "        else:\n",
    "            optimizerBFGS.step(closure)\n",
    "            # print(f'BFGS {batchcounter}')\n",
    "\n",
    "        loss_train = closure()\n",
    "        total_loss_train += loss_train.item()\n",
    "\n",
    "    # Calculate the average training loss\n",
    "    average_loss_train = total_loss_train / len(train_loader)\n",
    "    # Log the average training loss\n",
    "    writer.add_scalar(\"loss/train\", average_loss_train, counter)\n",
    "    losses_train.append(average_loss_train)\n",
    "    if np.isnan(average_loss_train):\n",
    "        print(\"we got nans\")\n",
    "\n",
    "    # Validation\n",
    "\n",
    "    if counter % 1 == 0:\n",
    "        with torch.no_grad():\n",
    "            net.eval()\n",
    "            total_loss_val = 0.0\n",
    "            interp_val = 0.0\n",
    "            L1Loss_val = 0.0\n",
    "            L1Loss_val_interp = 0.0\n",
    "            loss_hard_base = 0.0\n",
    "            Ham_loss = 0.0\n",
    "            Ham_loss_interp = 0.0\n",
    "            for (y_val_batch,) in test_loader:\n",
    "                # for X_val_batch, y_val_batch in test_loader:\n",
    "                # Transfer batch to GPU\n",
    "                y_val_batch = y_val_batch.to(device)\n",
    "                X_val_batch = y_val_batch[\n",
    "                    :, :, ::downsample, ::downsample, ::downsample\n",
    "                ].clone()\n",
    "                if diff != 0:\n",
    "                    y_val_batch = y_val_batch[\n",
    "                        :,\n",
    "                        :25,\n",
    "                        diff - 1 : -diff - 1,\n",
    "                        diff - 1 : -diff - 1,\n",
    "                        diff - 1 : -diff - 1,\n",
    "                    ]\n",
    "                y_val_pred, y_val_interp = net(X_val_batch)\n",
    "                loss_val = my_loss(y_val_pred, y_val_batch)\n",
    "                total_loss_val += loss_val.item()\n",
    "                interp_val += my_loss(y_val_interp, y_val_batch).item()\n",
    "                if downsample == factor:\n",
    "                    print(y_val_pred[:, 0, :, :, :].shape)\n",
    "                    print(y_val_batch[:, 0, :, :, :].shape)\n",
    "                    L1Loss_val += L1Loss(\n",
    "                        y_val_pred[:, 0, :, :, :], y_val_batch[:, 0, :, :, :]\n",
    "                    )\n",
    "                    L1Loss_val_interp += L1Loss(\n",
    "                        y_val_interp[:, 0, :, :, :], y_val_batch[:, 0, :, :, :]\n",
    "                    )\n",
    "                    loss_hard_base += ham_loss(y_val_batch, None)\n",
    "\n",
    "                    if config[\"loss\"] == \"L1\":\n",
    "                        Ham_loss_interp += ham_loss(y_val_interp, None)\n",
    "                        Ham_loss += ham_loss(y_val_pred, None)\n",
    "            # Calculate the average loss\n",
    "            average_loss_val = total_loss_val / len(test_loader)\n",
    "            average_interp_val = interp_val / len(test_loader)\n",
    "            losses_val_interp.append(average_interp_val)\n",
    "            losses_val.append(average_loss_val)\n",
    "            steps_val.append(counter)\n",
    "            writer.add_scalar(\"loss/test\", loss_val.item(), counter)\n",
    "\n",
    "    if counter % write_out_freq == 0:\n",
    "        # Writing out network and scaler\n",
    "        torch.save(\n",
    "            net.state_dict(),\n",
    "            f\"{folder_name}/model_epoch_counter_{counter:010d}_data_time_{time_stamp}.pth\",\n",
    "        )\n",
    "    # Advancing global counter\n",
    "    counter += 1"
   ]
  },
  {
   "cell_type": "code",
   "execution_count": 161,
   "id": "fdd46a1e-829c-4345-8e9b-0205aeab66a9",
   "metadata": {
    "editable": true,
    "scrolled": true,
    "slideshow": {
     "slide_type": ""
    },
    "tags": []
   },
   "outputs": [
    {
     "ename": "IndexError",
     "evalue": "list index out of range",
     "output_type": "error",
     "traceback": [
      "\u001b[0;31m---------------------------------------------------------------------------\u001b[0m",
      "\u001b[0;31mIndexError\u001b[0m                                Traceback (most recent call last)",
      "Cell \u001b[0;32mIn[161], line 2\u001b[0m\n\u001b[1;32m      1\u001b[0m plt\u001b[38;5;241m.\u001b[39mfigure(figsize\u001b[38;5;241m=\u001b[39m(\u001b[38;5;241m9\u001b[39m, \u001b[38;5;241m6\u001b[39m))\n\u001b[0;32m----> 2\u001b[0m \u001b[38;5;28mprint\u001b[39m(\u001b[38;5;124mf\u001b[39m\u001b[38;5;124m\"\u001b[39m\u001b[38;5;124mfinal val loss \u001b[39m\u001b[38;5;132;01m{\u001b[39;00mlosses_val[\u001b[38;5;241m-\u001b[39m\u001b[38;5;241m1\u001b[39m]\u001b[38;5;132;01m}\u001b[39;00m\u001b[38;5;124m relative \u001b[39m\u001b[38;5;132;01m{\u001b[39;00mlosses_val_interp[\u001b[38;5;241m-\u001b[39m\u001b[38;5;241m1\u001b[39m]\u001b[38;5;132;01m}\u001b[39;00m\u001b[38;5;124m\"\u001b[39m)\n\u001b[1;32m      3\u001b[0m plt\u001b[38;5;241m.\u001b[39mplot(np\u001b[38;5;241m.\u001b[39marray(losses_train), label\u001b[38;5;241m=\u001b[39m\u001b[38;5;124m\"\u001b[39m\u001b[38;5;124mTrain\u001b[39m\u001b[38;5;124m\"\u001b[39m)\n\u001b[1;32m      4\u001b[0m plt\u001b[38;5;241m.\u001b[39mplot(steps_val, np\u001b[38;5;241m.\u001b[39marray(losses_val), label\u001b[38;5;241m=\u001b[39m\u001b[38;5;124m\"\u001b[39m\u001b[38;5;124mVal\u001b[39m\u001b[38;5;124m\"\u001b[39m, linewidth\u001b[38;5;241m=\u001b[39m\u001b[38;5;241m0.5\u001b[39m)\n",
      "\u001b[0;31mIndexError\u001b[0m: list index out of range"
     ]
    },
    {
     "data": {
      "text/plain": [
       "<Figure size 900x600 with 0 Axes>"
      ]
     },
     "metadata": {},
     "output_type": "display_data"
    }
   ],
   "source": [
    "plt.figure(figsize=(9, 6))\n",
    "print(f\"final val loss {losses_val[-1]} relative {losses_val_interp[-1]}\")\n",
    "plt.plot(np.array(losses_train), label=\"Train\")\n",
    "plt.plot(steps_val, np.array(losses_val), label=\"Val\", linewidth=0.5)\n",
    "plt.plot(steps_val, np.array(losses_val_interp), label=\"baseline\", linewidth=0.5)\n",
    "plt.yscale(\"log\")\n",
    "plt.legend()"
   ]
  },
  {
   "cell_type": "code",
   "execution_count": 162,
   "id": "2b905e5f-03af-446d-84cb-57d76cc6d147",
   "metadata": {},
   "outputs": [],
   "source": [
    "net.to(device)\n",
    "net.eval();"
   ]
  },
  {
   "cell_type": "code",
   "execution_count": 166,
   "id": "9b810570-ec00-41e5-a39e-69fb3bec570f",
   "metadata": {},
   "outputs": [],
   "source": [
    "def get_constraints(output, oneoverdx):\n",
    "    output = output.permute(0, 2, 3, 4, 1)\n",
    "\n",
    "    # cutting ghosts off, otherwise you will run into problems later\n",
    "    dataXcut = cut_ghosts(output)\n",
    "\n",
    "    # creating dict with values\n",
    "    vars = TensorDict(dataXcut, keys)\n",
    "    # creating dict with derivatives\n",
    "    d1 = TensorDict(diff1(output, oneoverdx), keys)\n",
    "    d2 = TensorDict(diff2(output, oneoverdx**2), keys)\n",
    "    # calculating variables required for constraints\n",
    "    h_UU = torch.inverse(vars[\"h\"])\n",
    "    chris = compute_christoffel(d1[\"h\"], h_UU)\n",
    "    # Computing Constraints\n",
    "    out = constraint_equations(vars, d1, d2, h_UU, chris)\n",
    "    return out"
   ]
  },
  {
   "cell_type": "code",
   "execution_count": 167,
   "id": "d1111cd8-4e85-4e05-bc75-96eb4281ac91",
   "metadata": {},
   "outputs": [],
   "source": [
    "# Get comparison with classical methods\n",
    "(y_batch,) = next(iter(test_loader))\n",
    "y_batch = y_batch.to(device)\n",
    "X_batch = y_batch[:, :, ::downsample, ::downsample, ::downsample].clone()\n",
    "y_batch = y_batch[\n",
    "    :,\n",
    "    :25,\n",
    "    diff - 1 : -diff - 1,\n",
    "    diff - 1 : -diff - 1,\n",
    "    diff - 1 : -diff - 1,\n",
    "]\n",
    "\n",
    "# Interpolation compared to what is used typically in codes ( we interpolate between 6 values with polynomials x^i y^k z^k containing powers up to 3)\n",
    "shape = X_batch.shape\n",
    "\n",
    "net.eval()\n",
    "y_pred, y_interpolated = net(X_batch.detach())\n",
    "ham = get_constraints(y_pred, oneoverdx)\n",
    "ham_ref = get_constraints(y_interpolated, oneoverdx)\n",
    "\n",
    "\n",
    "# y_interpolated = interpolation(X_batch.detach().cpu()).detach().to(torch.double)\n",
    "# Create subplots"
   ]
  },
  {
   "cell_type": "code",
   "execution_count": 180,
   "id": "25b7fb22-82ae-4a78-966f-e03ec34d8a95",
   "metadata": {},
   "outputs": [
    {
     "data": {
      "text/plain": [
       "([], [])"
      ]
     },
     "execution_count": 180,
     "metadata": {},
     "output_type": "execute_result"
    },
    {
     "data": {
      "image/png": "[encoded data removed]",
      "text/plain": [
       "<Figure size 1500x500 with 1 Axes>"
      ]
     },
     "metadata": {},
     "output_type": "display_data"
    }
   ],
   "source": [
    "box = 0\n",
    "channel = 0\n",
    "slice = 3\n",
    "fig = plt.figure(figsize=(15, 5))\n",
    "\n",
    "# Plot ground truth\n",
    "plt.subplot(1, 2, 1)\n",
    "plt.title(\"Diff\")\n",
    "im0 = plt.imshow(\n",
    "    y_pred[box, channel, :, :, slice].cpu().detach().numpy()\n",
    "    - y_interpolated[box, channel, :, :, slice].cpu().detach().numpy(),\n",
    "    # vmin=-1e-7,\n",
    "    # vmax=1e-7,\n",
    "    cmap=\"viridis\",\n",
    ")\n",
    "plt.xticks([])\n",
    "plt.yticks([])"
   ]
  },
  {
   "cell_type": "code",
   "execution_count": 191,
   "id": "eb69ba33-c8e3-4ee5-8c81-b23b28d309f1",
   "metadata": {},
   "outputs": [
    {
     "data": {
      "text/plain": [
       "<matplotlib.colorbar.Colorbar at 0x1566e8cd0>"
      ]
     },
     "execution_count": 191,
     "metadata": {},
     "output_type": "execute_result"
    },
    {
     "data": {
      "image/png": "[encoded data removed]",
      "text/plain": [
       "<Figure size 1500x500 with 4 Axes>"
      ]
     },
     "metadata": {},
     "output_type": "display_data"
    }
   ],
   "source": [
    "fig = plt.figure(figsize=(15, 5))\n",
    "plt.subplot(1, 2, 1)\n",
    "plt.title(\"Diff fixedd\")\n",
    "vmin = np.min(np.abs(ham_ref[\"Ham\"][box, :, :, :].cpu().detach().numpy()))\n",
    "vmax = np.max(np.abs(ham_ref[\"Ham\"][box, :, :, :].cpu().detach().numpy()))\n",
    "im0 = plt.imshow(\n",
    "    np.abs(ham[\"Ham\"][box, :, :, slice].cpu().detach().numpy()),\n",
    "    vmin=vmin,\n",
    "    vmax=vmax,\n",
    "    cmap=\"viridis\",\n",
    ")\n",
    "plt.xticks([])\n",
    "plt.yticks([])\n",
    "plt.colorbar()\n",
    "plt.subplot(1, 2, 2)\n",
    "plt.title(\"Diff base\")\n",
    "im0 = plt.imshow(\n",
    "    np.abs(ham_ref[\"Ham\"][box, :, :, slice].cpu().detach().numpy()),\n",
    "    vmin=vmin,\n",
    "    vmax=vmax,\n",
    "    cmap=\"viridis\",\n",
    ")\n",
    "plt.xticks([])\n",
    "plt.yticks([])\n",
    "plt.colorbar()"
   ]
  },
  {
   "cell_type": "code",
   "execution_count": 192,
   "id": "c8d11f32-1b24-4943-936f-d0fefcccc5eb",
   "metadata": {},
   "outputs": [],
   "source": [
    "if factor == downsample:\n",
    "    box = 0\n",
    "    channel = 0\n",
    "    slice = 2\n",
    "    fig = plt.figure(figsize=(15, 5))\n",
    "\n",
    "    # Plot ground truth\n",
    "    plt.title(\"Diff\")\n",
    "    im0 = plt.imshow(\n",
    "        y_batch[box, channel, :, :, slice].cpu().detach().numpy()\n",
    "        - y_interpolated[box, channel, :, :, slice].cpu().detach().numpy(),\n",
    "        # vmin=-1e-7,\n",
    "        # vmax=1e-7,\n",
    "        cmap=\"viridis\",\n",
    "    )\n",
    "    plt.xticks([])\n",
    "    plt.yticks([])\n",
    "\n",
    "    plt.colorbar()"
   ]
  },
  {
   "cell_type": "code",
   "execution_count": 193,
   "id": "f84d754e-bdbc-4818-a526-ac0401015629",
   "metadata": {},
   "outputs": [
    {
     "data": {
      "text/plain": [
       "<matplotlib.colorbar.Colorbar at 0x1567ad070>"
      ]
     },
     "execution_count": 193,
     "metadata": {},
     "output_type": "execute_result"
    },
    {
     "data": {
      "image/png": "[encoded data removed]",
      "text/plain": [
       "<Figure size 1500x500 with 2 Axes>"
      ]
     },
     "metadata": {},
     "output_type": "display_data"
    }
   ],
   "source": [
    "fig = plt.figure(figsize=(15, 5))\n",
    "\n",
    "# Plot ground truth\n",
    "plt.title(\"Diff\")\n",
    "im0 = plt.imshow(\n",
    "    X_batch[box, channel, :, :, slice].cpu().detach().numpy(),\n",
    "    # vmin=min_val,\n",
    "    # vmax=max_val,\n",
    "    cmap=\"viridis\",\n",
    ")\n",
    "plt.xticks([])\n",
    "plt.yticks([])\n",
    "plt.colorbar()"
   ]
  },
  {
   "cell_type": "code",
   "execution_count": 160,
   "id": "309d8ad4-fd6d-4376-ace4-3fcb0d65e6be",
   "metadata": {},
   "outputs": [
    {
     "ename": "TypeError",
     "evalue": "tuple indices must be integers or slices, not tuple",
     "output_type": "error",
     "traceback": [
      "\u001b[0;31m---------------------------------------------------------------------------\u001b[0m",
      "\u001b[0;31mTypeError\u001b[0m                                 Traceback (most recent call last)",
      "Cell \u001b[0;32mIn[160], line 14\u001b[0m\n\u001b[1;32m      8\u001b[0m \u001b[38;5;28;01mif\u001b[39;00m downsample \u001b[38;5;241m==\u001b[39m factor:\n\u001b[1;32m      9\u001b[0m     plt\u001b[38;5;241m.\u001b[39mplot(\n\u001b[1;32m     10\u001b[0m         y_batch[box, channel, :, \u001b[38;5;28mslice\u001b[39m, \u001b[38;5;28mslice\u001b[39m]\u001b[38;5;241m.\u001b[39mdetach()\u001b[38;5;241m.\u001b[39mcpu()\u001b[38;5;241m.\u001b[39mnumpy(),\n\u001b[1;32m     11\u001b[0m         label\u001b[38;5;241m=\u001b[39m\u001b[38;5;124m\"\u001b[39m\u001b[38;5;124mground truth\u001b[39m\u001b[38;5;124m\"\u001b[39m,\n\u001b[1;32m     12\u001b[0m     )\n\u001b[1;32m     13\u001b[0m plt\u001b[38;5;241m.\u001b[39mplot(\n\u001b[0;32m---> 14\u001b[0m     \u001b[43my_pred\u001b[49m\u001b[43m[\u001b[49m\u001b[43mbox\u001b[49m\u001b[43m,\u001b[49m\u001b[43m \u001b[49m\u001b[43mchannel\u001b[49m\u001b[43m,\u001b[49m\u001b[43m \u001b[49m\u001b[43m:\u001b[49m\u001b[43m,\u001b[49m\u001b[43m \u001b[49m\u001b[38;5;28;43mslice\u001b[39;49m\u001b[43m,\u001b[49m\u001b[43m \u001b[49m\u001b[38;5;28;43mslice\u001b[39;49m\u001b[43m]\u001b[49m\u001b[38;5;241m.\u001b[39mdetach()\u001b[38;5;241m.\u001b[39mcpu()\u001b[38;5;241m.\u001b[39mnumpy(),\n\u001b[1;32m     15\u001b[0m     label\u001b[38;5;241m=\u001b[39m\u001b[38;5;124m\"\u001b[39m\u001b[38;5;124mneural network \u001b[39m\u001b[38;5;124m\"\u001b[39m,\n\u001b[1;32m     16\u001b[0m )\n\u001b[1;32m     17\u001b[0m plt\u001b[38;5;241m.\u001b[39mplot(\n\u001b[1;32m     18\u001b[0m     y_interpolated[box, channel, :, \u001b[38;5;28mslice\u001b[39m, \u001b[38;5;28mslice\u001b[39m]\u001b[38;5;241m.\u001b[39mdetach()\u001b[38;5;241m.\u001b[39mcpu()\u001b[38;5;241m.\u001b[39mnumpy(),\n\u001b[1;32m     19\u001b[0m     label\u001b[38;5;241m=\u001b[39m\u001b[38;5;124m\"\u001b[39m\u001b[38;5;124minterpolation \u001b[39m\u001b[38;5;124m\"\u001b[39m,\n\u001b[0;32m   (...)\u001b[0m\n\u001b[1;32m     22\u001b[0m     linewidth\u001b[38;5;241m=\u001b[39m\u001b[38;5;241m2\u001b[39m,\n\u001b[1;32m     23\u001b[0m )\n\u001b[1;32m     24\u001b[0m \u001b[38;5;66;03m# plt.yscale(\"log\")\u001b[39;00m\n",
      "\u001b[0;31mTypeError\u001b[0m: tuple indices must be integers or slices, not tuple"
     ]
    }
   ],
   "source": [
    "box = 0\n",
    "channel = 0\n",
    "slice = 5\n",
    "\n",
    "# net.eval()\n",
    "# y_pred, y_interpolated = net(X_batch.detach())\n",
    "\n",
    "if downsample == factor:\n",
    "    plt.plot(\n",
    "        y_batch[box, channel, :, slice, slice].detach().cpu().numpy(),\n",
    "        label=\"ground truth\",\n",
    "    )\n",
    "plt.plot(\n",
    "    y_pred[box, channel, :, slice, slice].detach().cpu().numpy(),\n",
    "    label=\"neural network \",\n",
    ")\n",
    "plt.plot(\n",
    "    y_interpolated[box, channel, :, slice, slice].detach().cpu().numpy(),\n",
    "    label=\"interpolation \",\n",
    "    linestyle=\":\",\n",
    "    alpha=0.6,\n",
    "    linewidth=2,\n",
    ")\n",
    "# plt.yscale(\"log\")\n",
    "plt.legend()"
   ]
  },
  {
   "cell_type": "code",
   "execution_count": 157,
   "id": "ddd54cde-bbdc-45ba-8ae4-487b675bdf43",
   "metadata": {},
   "outputs": [
    {
     "ename": "TypeError",
     "evalue": "tuple indices must be integers or slices, not tuple",
     "output_type": "error",
     "traceback": [
      "\u001b[0;31m---------------------------------------------------------------------------\u001b[0m",
      "\u001b[0;31mTypeError\u001b[0m                                 Traceback (most recent call last)",
      "Cell \u001b[0;32mIn[157], line 11\u001b[0m\n\u001b[1;32m      3\u001b[0m \u001b[38;5;28mslice\u001b[39m \u001b[38;5;241m=\u001b[39m \u001b[38;5;241m5\u001b[39m\n\u001b[1;32m      5\u001b[0m \u001b[38;5;66;03m#net.eval()\u001b[39;00m\n\u001b[1;32m      6\u001b[0m \u001b[38;5;66;03m#y_pred = net(X_batch.detach())\u001b[39;00m\n\u001b[1;32m      9\u001b[0m plt\u001b[38;5;241m.\u001b[39mplot(\n\u001b[1;32m     10\u001b[0m     (\n\u001b[0;32m---> 11\u001b[0m         \u001b[43my_pred\u001b[49m\u001b[43m[\u001b[49m\u001b[43mbox\u001b[49m\u001b[43m,\u001b[49m\u001b[43m \u001b[49m\u001b[43mchannel\u001b[49m\u001b[43m,\u001b[49m\u001b[43m \u001b[49m\u001b[43m:\u001b[49m\u001b[43m,\u001b[49m\u001b[43m \u001b[49m\u001b[38;5;28;43mslice\u001b[39;49m\u001b[43m,\u001b[49m\u001b[43m \u001b[49m\u001b[38;5;28;43mslice\u001b[39;49m\u001b[43m]\u001b[49m\u001b[38;5;241m.\u001b[39mdetach()\u001b[38;5;241m.\u001b[39mcpu()\u001b[38;5;241m.\u001b[39mnumpy()\n\u001b[1;32m     12\u001b[0m         \u001b[38;5;241m-\u001b[39m y_interpolated[box, channel, :, \u001b[38;5;28mslice\u001b[39m, \u001b[38;5;28mslice\u001b[39m]\u001b[38;5;241m.\u001b[39mdetach()\u001b[38;5;241m.\u001b[39mcpu()\u001b[38;5;241m.\u001b[39mnumpy()\n\u001b[1;32m     13\u001b[0m     ),\n\u001b[1;32m     14\u001b[0m     label\u001b[38;5;241m=\u001b[39m\u001b[38;5;124m\"\u001b[39m\u001b[38;5;124minterpolation residual\u001b[39m\u001b[38;5;124m\"\u001b[39m,\n\u001b[1;32m     15\u001b[0m     linestyle\u001b[38;5;241m=\u001b[39m\u001b[38;5;124m\"\u001b[39m\u001b[38;5;124m:\u001b[39m\u001b[38;5;124m\"\u001b[39m,\n\u001b[1;32m     16\u001b[0m     alpha\u001b[38;5;241m=\u001b[39m\u001b[38;5;241m0.6\u001b[39m,\n\u001b[1;32m     17\u001b[0m )\n\u001b[1;32m     18\u001b[0m \u001b[38;5;66;03m#plt.yscale(\"log\")\u001b[39;00m\n\u001b[1;32m     19\u001b[0m plt\u001b[38;5;241m.\u001b[39mlegend()\n",
      "\u001b[0;31mTypeError\u001b[0m: tuple indices must be integers or slices, not tuple"
     ]
    }
   ],
   "source": [
    "box = 0\n",
    "channel = 0\n",
    "slice = 5\n",
    "\n",
    "# net.eval()\n",
    "# y_pred = net(X_batch.detach())\n",
    "\n",
    "\n",
    "plt.plot(\n",
    "    (\n",
    "        y_pred[box, channel, :, slice, slice].detach().cpu().numpy()\n",
    "        - y_interpolated[box, channel, :, slice, slice].detach().cpu().numpy()\n",
    "    ),\n",
    "    label=\"interpolation residual\",\n",
    "    linestyle=\":\",\n",
    "    alpha=0.6,\n",
    ")\n",
    "# plt.yscale(\"log\")\n",
    "plt.legend()"
   ]
  },
  {
   "cell_type": "code",
   "execution_count": 152,
   "id": "e2c3a78a-9a54-4772-82b0-bd8d43bcdeb6",
   "metadata": {},
   "outputs": [
    {
     "name": "stdout",
     "output_type": "stream",
     "text": [
      "Reference data L2 Ham 1.561885776001435e-06\n",
      "\n"
     ]
    },
    {
     "ename": "TypeError",
     "evalue": "tuple indices must be integers or slices, not tuple",
     "output_type": "error",
     "traceback": [
      "\u001b[0;31m---------------------------------------------------------------------------\u001b[0m",
      "\u001b[0;31mTypeError\u001b[0m                                 Traceback (most recent call last)",
      "Cell \u001b[0;32mIn[152], line 11\u001b[0m\n\u001b[1;32m      5\u001b[0m y_pred \u001b[38;5;241m=\u001b[39m net(X_batch\u001b[38;5;241m.\u001b[39mdetach())\n\u001b[1;32m      7\u001b[0m \u001b[38;5;28mprint\u001b[39m(\n\u001b[1;32m      8\u001b[0m     \u001b[38;5;124mf\u001b[39m\u001b[38;5;124m\"\u001b[39m\u001b[38;5;124mReference data L2 Ham \u001b[39m\u001b[38;5;132;01m{\u001b[39;00mmy_loss(y_batch[:,\u001b[38;5;250m \u001b[39m:,\u001b[38;5;250m \u001b[39m:,\u001b[38;5;250m \u001b[39m:,\u001b[38;5;250m \u001b[39m:],\u001b[38;5;250m \u001b[39mtorch\u001b[38;5;241m.\u001b[39mtensor([]))\u001b[38;5;241m.\u001b[39mdetach()\u001b[38;5;241m.\u001b[39mcpu()\u001b[38;5;241m.\u001b[39mnumpy()\u001b[38;5;132;01m}\u001b[39;00m\u001b[38;5;130;01m\\n\u001b[39;00m\u001b[38;5;124m\"\u001b[39m\n\u001b[1;32m      9\u001b[0m )\n\u001b[1;32m     10\u001b[0m \u001b[38;5;28mprint\u001b[39m(\n\u001b[0;32m---> 11\u001b[0m     \u001b[38;5;124mf\u001b[39m\u001b[38;5;124m\"\u001b[39m\u001b[38;5;124mNeural Network L2 Ham \u001b[39m\u001b[38;5;132;01m{\u001b[39;00mmy_loss(y_pred[:,\u001b[38;5;250m \u001b[39m:,\u001b[38;5;250m \u001b[39m:,\u001b[38;5;250m \u001b[39m:,\u001b[38;5;250m \u001b[39m:],\u001b[38;5;250m \u001b[39mtorch\u001b[38;5;241m.\u001b[39mtensor([]))\u001b[38;5;241m.\u001b[39mdetach()\u001b[38;5;241m.\u001b[39mcpu()\u001b[38;5;241m.\u001b[39mnumpy()\u001b[38;5;132;01m}\u001b[39;00m\u001b[38;5;130;01m\\n\u001b[39;00m\u001b[38;5;124m\"\u001b[39m\n\u001b[1;32m     12\u001b[0m )\n\u001b[1;32m     13\u001b[0m \u001b[38;5;28mprint\u001b[39m(\n\u001b[1;32m     14\u001b[0m     \u001b[38;5;124mf\u001b[39m\u001b[38;5;124m\"\u001b[39m\u001b[38;5;124mInterpolation L2 Ham  \u001b[39m\u001b[38;5;132;01m{\u001b[39;00mmy_loss(y_interpolated,\u001b[38;5;250m \u001b[39mtorch\u001b[38;5;241m.\u001b[39mtensor([]))\u001b[38;5;241m.\u001b[39mdetach()\u001b[38;5;241m.\u001b[39mnumpy()\u001b[38;5;132;01m}\u001b[39;00m\u001b[38;5;130;01m\\n\u001b[39;00m\u001b[38;5;124m\"\u001b[39m\n\u001b[1;32m     15\u001b[0m )\n\u001b[1;32m     16\u001b[0m \u001b[38;5;28mprint\u001b[39m(\u001b[38;5;124m\"\u001b[39m\u001b[38;5;124m--------------------\u001b[39m\u001b[38;5;130;01m\\n\u001b[39;00m\u001b[38;5;124m\"\u001b[39m)\n",
      "\u001b[0;31mTypeError\u001b[0m: tuple indices must be integers or slices, not tuple"
     ]
    }
   ],
   "source": [
    "# Calculate L2Ham performance\n",
    "my_loss = Hamiltonian_loss(oneoverdx)\n",
    "\n",
    "net.eval()\n",
    "y_pred, _ = net(X_batch.detach())\n",
    "\n",
    "print(\n",
    "    f\"Reference data L2 Ham {my_loss(y_batch[:, :, :, :, :], torch.tensor([])).detach().cpu().numpy()}\\n\"\n",
    ")\n",
    "print(\n",
    "    f\"Neural Network L2 Ham {my_loss(y_pred[:, :, :, :, :], torch.tensor([])).detach().cpu().numpy()}\\n\"\n",
    ")\n",
    "print(\n",
    "    f\"Interpolation L2 Ham  {my_loss(y_interpolated, torch.tensor([])).detach().numpy()}\\n\"\n",
    ")\n",
    "print(\"--------------------\\n\")"
   ]
  },
  {
   "cell_type": "code",
   "execution_count": 82,
   "id": "eb655716-a267-42b1-a6b4-e804d25507ee",
   "metadata": {},
   "outputs": [],
   "source": [
    "# Writing out network and scaler\n",
    "torch.save(net.state_dict(), file_path)\n",
    "\n",
    "# Write out model for the C++ code to pick up\n",
    "# traced_script_module = torch.jit.trace(net, X)\n",
    "# traced_script_module.save(\"model.pt\")"
   ]
  },
  {
   "cell_type": "code",
   "execution_count": null,
   "id": "f6542c5c-ec7e-485e-9f71-7aadd92982cf",
   "metadata": {},
   "outputs": [],
   "source": []
  },
  {
   "cell_type": "code",
   "execution_count": null,
   "id": "90bfe3eb-4255-45b3-bc22-f1f00db3fe2a",
   "metadata": {},
   "outputs": [],
   "source": []
  }
 ],
 "metadata": {
  "kernelspec": {
   "display_name": "Python 3 (ipykernel)",
   "language": "python",
   "name": "python3"
  },
  "language_info": {
   "codemirror_mode": {
    "name": "ipython",
    "version": 3
   },
   "file_extension": ".py",
   "mimetype": "text/x-python",
   "name": "python",
   "nbconvert_exporter": "python",
   "pygments_lexer": "ipython3",
   "version": "3.8.18"
  }
 },
 "nbformat": 4,
 "nbformat_minor": 5
}
